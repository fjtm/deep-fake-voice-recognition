{
  "nbformat": 4,
  "nbformat_minor": 0,
  "metadata": {
    "colab": {
      "provenance": [],
      "include_colab_link": true
    },
    "kernelspec": {
      "name": "python3",
      "display_name": "Python 3"
    },
    "language_info": {
      "name": "python"
    }
  },
  "cells": [
    {
      "cell_type": "markdown",
      "metadata": {
        "id": "view-in-github",
        "colab_type": "text"
      },
      "source": [
        "<a href=\"https://colab.research.google.com/github/fjtm/deep-fake-voice-recognition/blob/feature%2Fstart/03_base_line_ml_model.ipynb\" target=\"_parent\"><img src=\"https://colab.research.google.com/assets/colab-badge.svg\" alt=\"Open In Colab\"/></a>"
      ]
    },
    {
      "cell_type": "code",
      "source": [
        "# !git clone -b feature/start https://github.com/fjtm/deep-fake-voice-recognition.git\n",
        "%cd deep-fake-voice-recognition/"
      ],
      "metadata": {
        "id": "BHV8dGBzn3Eo"
      },
      "execution_count": null,
      "outputs": []
    },
    {
      "cell_type": "code",
      "source": [
        "!pip install feature-engine"
      ],
      "metadata": {
        "id": "rIMOt5K8aXhp"
      },
      "execution_count": null,
      "outputs": []
    },
    {
      "cell_type": "code",
      "source": [
        "from google.colab import drive\n",
        "drive.mount('/content/drive')"
      ],
      "metadata": {
        "colab": {
          "base_uri": "https://localhost:8080/"
        },
        "id": "lqIKCql3VZGe",
        "outputId": "6e28b8a7-bfba-424c-aa87-c51a64f34426"
      },
      "execution_count": 5,
      "outputs": [
        {
          "output_type": "stream",
          "name": "stdout",
          "text": [
            "Mounted at /content/drive\n"
          ]
        }
      ]
    },
    {
      "cell_type": "code",
      "source": [
        "import pandas as pd"
      ],
      "metadata": {
        "id": "ieAv0SnLVac6"
      },
      "execution_count": 6,
      "outputs": []
    },
    {
      "cell_type": "markdown",
      "source": [
        "# Loading train/test data preprocessed in <a href=\"https://github.com/fjtm/deep-fake-voice-recognition/blob/main/02_data_preprocessing.ipynb\">02_data_preprocessing.ipynb</a>"
      ],
      "metadata": {
        "id": "WCtDhSNVvMiK"
      }
    },
    {
      "cell_type": "code",
      "source": [
        "csv_files_path = f'/content/drive/My Drive/deep-fake-voice-recognition/data/'"
      ],
      "metadata": {
        "id": "V1jGya4TWXYY"
      },
      "execution_count": 20,
      "outputs": []
    },
    {
      "cell_type": "code",
      "source": [
        "train = pd.read_csv(csv_files_path+\"train.csv\")\n",
        "test = pd.read_csv(csv_files_path+\"test.csv\")"
      ],
      "metadata": {
        "id": "jbaCS-0DVW4b"
      },
      "execution_count": 21,
      "outputs": []
    },
    {
      "cell_type": "code",
      "source": [
        "target_column = \"target\"\n",
        "index_columns = \"ind_num\"\n",
        "not_data_columns = [\"label\", \"ind\", \"target\",\"ind_num\"]"
      ],
      "metadata": {
        "id": "lZBwpdamWd6x"
      },
      "execution_count": 22,
      "outputs": []
    },
    {
      "cell_type": "code",
      "source": [
        "X_train, y_train = train.drop(not_data_columns, axis = 1), train[target_column]\n",
        "X_test, y_test = test.drop(not_data_columns, axis = 1), test[target_column]\n",
        "X_train.shape, y_train.shape, X_test.shape, y_test.shape"
      ],
      "metadata": {
        "colab": {
          "base_uri": "https://localhost:8080/"
        },
        "id": "pbLR4pCnWg7h",
        "outputId": "ca1d644d-d0ee-42f2-9396-1cd5ddddb243"
      },
      "execution_count": 23,
      "outputs": [
        {
          "output_type": "execute_result",
          "data": {
            "text/plain": [
              "((1857240, 58), (1857240,), (716918, 58), (716918,))"
            ]
          },
          "metadata": {},
          "execution_count": 23
        }
      ]
    },
    {
      "cell_type": "markdown",
      "source": [
        "The train data is clearly unbalanced (over 15% of real audio rows)"
      ],
      "metadata": {
        "id": "Xx4sIqBivvpR"
      }
    },
    {
      "cell_type": "code",
      "source": [
        "y_train.value_counts()"
      ],
      "metadata": {
        "colab": {
          "base_uri": "https://localhost:8080/"
        },
        "id": "28VnGMeE13E0",
        "outputId": "832a23ef-09fa-4c42-8fe3-bfa2c11a4ab1"
      },
      "execution_count": 24,
      "outputs": [
        {
          "output_type": "execute_result",
          "data": {
            "text/plain": [
              "0    1584114\n",
              "1     273126\n",
              "Name: target, dtype: int64"
            ]
          },
          "metadata": {},
          "execution_count": 24
        }
      ]
    },
    {
      "cell_type": "markdown",
      "source": [
        "# Baseline ML model\n",
        "\n",
        "Create a baseline ML model that we will try to beat with a DL model. In this case, based on the original paper <a href=\"https://arxiv.org/abs/2308.12734\">\"Real-time Detection of AI-Generated Speech for DeepFake Voice Conversion\"</a>. Some of the models used were:\n",
        "\n",
        "1. Tree-based models (XGBoost and Random Forest). We will only use Random Forest as it is easier to train and avoids overfitting.\n",
        "2. Quadratic Discriminant Analysis\n",
        "3. Naïve Bayes Gaussian Models\n",
        "4. Logistic Regression (Although it is not used in the paper, it is the simplest model in classification problems).\n",
        "\n",
        "Additionally, we will try to determine if it is useful to use some preprocessing methods that remove correlation. To do that, we will try two functions implemented in the <a href=\"https://feature-engine.trainindata.com/en/latest/\">feature_engine</a> library (SmartCorrelatedSelection and DropCorrelatedFeatures).\n",
        "\n",
        "To deal with the unbalanced (15% of real audio rows) problem we have on our hands, we will use 'roc_auc' metric.\n",
        "\n"
      ],
      "metadata": {
        "id": "lFoXTOITwBA6"
      }
    },
    {
      "cell_type": "code",
      "source": [
        "from feature_engine.selection import SmartCorrelatedSelection, DropCorrelatedFeatures\n",
        "from sklearn.pipeline import Pipeline\n",
        "from sklearn.base import BaseEstimator\n",
        "from sklearn.ensemble import RandomForestClassifier\n",
        "from sklearn.discriminant_analysis import QuadraticDiscriminantAnalysis\n",
        "from sklearn.naive_bayes import GaussianNB\n",
        "from sklearn.linear_model import LogisticRegression\n",
        "from sklearn.model_selection import GridSearchCV"
      ],
      "metadata": {
        "id": "O3EHJFGEX1LA"
      },
      "execution_count": 13,
      "outputs": []
    },
    {
      "cell_type": "markdown",
      "source": [
        "Creation of base pipeline"
      ],
      "metadata": {
        "id": "TboGtdJNzXJN"
      }
    },
    {
      "cell_type": "code",
      "source": [
        "pipe = Pipeline([\n",
        "    ('feature_selection', SmartCorrelatedSelection()),\n",
        "    ('clf', RandomForestClassifier())\n",
        "])"
      ],
      "metadata": {
        "id": "mZmO2NK_nzQY"
      },
      "execution_count": null,
      "outputs": []
    },
    {
      "cell_type": "markdown",
      "source": [
        "Definition of GridSearchCV parameters."
      ],
      "metadata": {
        "id": "fzyWHWLwzZkX"
      }
    },
    {
      "cell_type": "code",
      "source": [
        "parameters = [\n",
        "    {\n",
        "        'feature_selection' : ['passthrough'],\n",
        "        'clf': [RandomForestClassifier()],\n",
        "        'clf__n_estimators': [16],\n",
        "        'clf__max_depth' : [8, 16]\n",
        "    },\n",
        "    {\n",
        "        'feature_selection' : ['passthrough', SmartCorrelatedSelection(), DropCorrelatedFeatures()],\n",
        "        'clf': [QuadraticDiscriminantAnalysis()]\n",
        "    },\n",
        "    {\n",
        "        'feature_selection' : ['passthrough', SmartCorrelatedSelection(), DropCorrelatedFeatures()],\n",
        "        'clf': [GaussianNB()],\n",
        "    },\n",
        "    {\n",
        "        'feature_selection' : ['passthrough', SmartCorrelatedSelection(), DropCorrelatedFeatures()],\n",
        "        'clf': [LogisticRegression()],\n",
        "        # 'clf__C' : [1e-5, 1e-3, 1e-1, 1, 10]\n",
        "    },\n",
        "]\n"
      ],
      "metadata": {
        "id": "fiLr0eqLzw_a"
      },
      "execution_count": null,
      "outputs": []
    },
    {
      "cell_type": "markdown",
      "source": [
        "Initialize the GridSearchCV object. There is a bug in sklearn \"1.2.2\" version with jupyter notebook that doesn't show the progress desired when using the verbose parameter."
      ],
      "metadata": {
        "id": "UAp0XsAZzlJw"
      }
    },
    {
      "cell_type": "code",
      "source": [
        "clf_gs = (\n",
        "    GridSearchCV(\n",
        "        estimator=pipe,\n",
        "        param_grid=parameters,\n",
        "        n_jobs = -1,\n",
        "        scoring = 'roc_auc',\n",
        "        return_train_score = True,\n",
        "        verbose = 10,\n",
        "        cv = 3\n",
        "        )\n",
        "    )"
      ],
      "metadata": {
        "id": "1EFA35bo2JU4"
      },
      "execution_count": null,
      "outputs": []
    },
    {
      "cell_type": "code",
      "source": [
        "clf_best_model = clf_gs.fit(X_train, y_train)"
      ],
      "metadata": {
        "colab": {
          "base_uri": "https://localhost:8080/"
        },
        "id": "7WJNBr_W2z4m",
        "outputId": "791baba6-877e-410f-f967-19d358125800"
      },
      "execution_count": null,
      "outputs": [
        {
          "output_type": "stream",
          "name": "stdout",
          "text": [
            "Fitting 3 folds for each of 11 candidates, totalling 33 fits\n"
          ]
        }
      ]
    },
    {
      "cell_type": "markdown",
      "source": [
        "We save model with dump"
      ],
      "metadata": {
        "id": "JwAQ6NuD1KKU"
      }
    },
    {
      "cell_type": "code",
      "source": [
        "import joblib\n",
        "model_files_path = f'/content/drive/My Drive/deep-fake-voice-recognition/models/'\n",
        "# joblib.dump(clf_best_model, f'{model_files_path}baseline_model.pkl')"
      ],
      "metadata": {
        "id": "1ydCVIZT73m_"
      },
      "execution_count": 7,
      "outputs": []
    },
    {
      "cell_type": "markdown",
      "source": [
        "# Analyzing results of the best model found"
      ],
      "metadata": {
        "id": "-dvDd5ts7x2K"
      }
    },
    {
      "cell_type": "markdown",
      "source": [
        "Load model"
      ],
      "metadata": {
        "id": "YGYVb7qt2jp6"
      }
    },
    {
      "cell_type": "code",
      "source": [
        "clf_best_model = joblib.load(f'{model_files_path}baseline_model.pkl')"
      ],
      "metadata": {
        "id": "PZgxrMVTELr9"
      },
      "execution_count": 14,
      "outputs": []
    },
    {
      "cell_type": "code",
      "source": [
        "clf_best_model.best_estimator_"
      ],
      "metadata": {
        "colab": {
          "base_uri": "https://localhost:8080/",
          "height": 173
        },
        "id": "w_WoLodZERmN",
        "outputId": "c0bd7c5e-5738-4f7e-d074-e1cc21044f14"
      },
      "execution_count": 15,
      "outputs": [
        {
          "output_type": "execute_result",
          "data": {
            "text/plain": [
              "Pipeline(steps=[('feature_selection', 'passthrough'),\n",
              "                ('clf', RandomForestClassifier(max_depth=16, n_estimators=16))])"
            ],
            "text/html": [
              "<style>#sk-container-id-1 {color: black;background-color: white;}#sk-container-id-1 pre{padding: 0;}#sk-container-id-1 div.sk-toggleable {background-color: white;}#sk-container-id-1 label.sk-toggleable__label {cursor: pointer;display: block;width: 100%;margin-bottom: 0;padding: 0.3em;box-sizing: border-box;text-align: center;}#sk-container-id-1 label.sk-toggleable__label-arrow:before {content: \"▸\";float: left;margin-right: 0.25em;color: #696969;}#sk-container-id-1 label.sk-toggleable__label-arrow:hover:before {color: black;}#sk-container-id-1 div.sk-estimator:hover label.sk-toggleable__label-arrow:before {color: black;}#sk-container-id-1 div.sk-toggleable__content {max-height: 0;max-width: 0;overflow: hidden;text-align: left;background-color: #f0f8ff;}#sk-container-id-1 div.sk-toggleable__content pre {margin: 0.2em;color: black;border-radius: 0.25em;background-color: #f0f8ff;}#sk-container-id-1 input.sk-toggleable__control:checked~div.sk-toggleable__content {max-height: 200px;max-width: 100%;overflow: auto;}#sk-container-id-1 input.sk-toggleable__control:checked~label.sk-toggleable__label-arrow:before {content: \"▾\";}#sk-container-id-1 div.sk-estimator input.sk-toggleable__control:checked~label.sk-toggleable__label {background-color: #d4ebff;}#sk-container-id-1 div.sk-label input.sk-toggleable__control:checked~label.sk-toggleable__label {background-color: #d4ebff;}#sk-container-id-1 input.sk-hidden--visually {border: 0;clip: rect(1px 1px 1px 1px);clip: rect(1px, 1px, 1px, 1px);height: 1px;margin: -1px;overflow: hidden;padding: 0;position: absolute;width: 1px;}#sk-container-id-1 div.sk-estimator {font-family: monospace;background-color: #f0f8ff;border: 1px dotted black;border-radius: 0.25em;box-sizing: border-box;margin-bottom: 0.5em;}#sk-container-id-1 div.sk-estimator:hover {background-color: #d4ebff;}#sk-container-id-1 div.sk-parallel-item::after {content: \"\";width: 100%;border-bottom: 1px solid gray;flex-grow: 1;}#sk-container-id-1 div.sk-label:hover label.sk-toggleable__label {background-color: #d4ebff;}#sk-container-id-1 div.sk-serial::before {content: \"\";position: absolute;border-left: 1px solid gray;box-sizing: border-box;top: 0;bottom: 0;left: 50%;z-index: 0;}#sk-container-id-1 div.sk-serial {display: flex;flex-direction: column;align-items: center;background-color: white;padding-right: 0.2em;padding-left: 0.2em;position: relative;}#sk-container-id-1 div.sk-item {position: relative;z-index: 1;}#sk-container-id-1 div.sk-parallel {display: flex;align-items: stretch;justify-content: center;background-color: white;position: relative;}#sk-container-id-1 div.sk-item::before, #sk-container-id-1 div.sk-parallel-item::before {content: \"\";position: absolute;border-left: 1px solid gray;box-sizing: border-box;top: 0;bottom: 0;left: 50%;z-index: -1;}#sk-container-id-1 div.sk-parallel-item {display: flex;flex-direction: column;z-index: 1;position: relative;background-color: white;}#sk-container-id-1 div.sk-parallel-item:first-child::after {align-self: flex-end;width: 50%;}#sk-container-id-1 div.sk-parallel-item:last-child::after {align-self: flex-start;width: 50%;}#sk-container-id-1 div.sk-parallel-item:only-child::after {width: 0;}#sk-container-id-1 div.sk-dashed-wrapped {border: 1px dashed gray;margin: 0 0.4em 0.5em 0.4em;box-sizing: border-box;padding-bottom: 0.4em;background-color: white;}#sk-container-id-1 div.sk-label label {font-family: monospace;font-weight: bold;display: inline-block;line-height: 1.2em;}#sk-container-id-1 div.sk-label-container {text-align: center;}#sk-container-id-1 div.sk-container {/* jupyter's `normalize.less` sets `[hidden] { display: none; }` but bootstrap.min.css set `[hidden] { display: none !important; }` so we also need the `!important` here to be able to override the default hidden behavior on the sphinx rendered scikit-learn.org. See: https://github.com/scikit-learn/scikit-learn/issues/21755 */display: inline-block !important;position: relative;}#sk-container-id-1 div.sk-text-repr-fallback {display: none;}</style><div id=\"sk-container-id-1\" class=\"sk-top-container\"><div class=\"sk-text-repr-fallback\"><pre>Pipeline(steps=[(&#x27;feature_selection&#x27;, &#x27;passthrough&#x27;),\n",
              "                (&#x27;clf&#x27;, RandomForestClassifier(max_depth=16, n_estimators=16))])</pre><b>In a Jupyter environment, please rerun this cell to show the HTML representation or trust the notebook. <br />On GitHub, the HTML representation is unable to render, please try loading this page with nbviewer.org.</b></div><div class=\"sk-container\" hidden><div class=\"sk-item sk-dashed-wrapped\"><div class=\"sk-label-container\"><div class=\"sk-label sk-toggleable\"><input class=\"sk-toggleable__control sk-hidden--visually\" id=\"sk-estimator-id-1\" type=\"checkbox\" ><label for=\"sk-estimator-id-1\" class=\"sk-toggleable__label sk-toggleable__label-arrow\">Pipeline</label><div class=\"sk-toggleable__content\"><pre>Pipeline(steps=[(&#x27;feature_selection&#x27;, &#x27;passthrough&#x27;),\n",
              "                (&#x27;clf&#x27;, RandomForestClassifier(max_depth=16, n_estimators=16))])</pre></div></div></div><div class=\"sk-serial\"><div class=\"sk-item\"><div class=\"sk-estimator sk-toggleable\"><input class=\"sk-toggleable__control sk-hidden--visually\" id=\"sk-estimator-id-2\" type=\"checkbox\" ><label for=\"sk-estimator-id-2\" class=\"sk-toggleable__label sk-toggleable__label-arrow\">passthrough</label><div class=\"sk-toggleable__content\"><pre>passthrough</pre></div></div></div><div class=\"sk-item\"><div class=\"sk-estimator sk-toggleable\"><input class=\"sk-toggleable__control sk-hidden--visually\" id=\"sk-estimator-id-3\" type=\"checkbox\" ><label for=\"sk-estimator-id-3\" class=\"sk-toggleable__label sk-toggleable__label-arrow\">RandomForestClassifier</label><div class=\"sk-toggleable__content\"><pre>RandomForestClassifier(max_depth=16, n_estimators=16)</pre></div></div></div></div></div></div></div>"
            ]
          },
          "metadata": {},
          "execution_count": 15
        }
      ]
    },
    {
      "cell_type": "code",
      "source": [
        "print(f'Train \"ROC_AUC\" : {clf_best_model.score(X_train, y_train):.5f}')"
      ],
      "metadata": {
        "colab": {
          "base_uri": "https://localhost:8080/"
        },
        "id": "NoHRepi_EYVV",
        "outputId": "6e0dd066-6f1b-4005-ea9c-f8a827e4056f"
      },
      "execution_count": 28,
      "outputs": [
        {
          "output_type": "stream",
          "name": "stdout",
          "text": [
            "Train \"ROC_AUC\" :0.99246\n"
          ]
        }
      ]
    },
    {
      "cell_type": "code",
      "source": [
        "print(f'Test \"ROC_AUC\" : {clf_best_model.score(X_test, y_test):.5f}')"
      ],
      "metadata": {
        "colab": {
          "base_uri": "https://localhost:8080/"
        },
        "id": "8OuOM3p7Eay-",
        "outputId": "1910ac48-3f93-4400-bf05-5b180c518046"
      },
      "execution_count": 29,
      "outputs": [
        {
          "output_type": "stream",
          "name": "stdout",
          "text": [
            "Test \"ROC_AUC\" :0.96688\n"
          ]
        }
      ]
    },
    {
      "cell_type": "markdown",
      "source": [
        "<b>The model has a slight overfit, but in general, it works fine!</b>"
      ],
      "metadata": {
        "id": "8_j8n7EB2nyt"
      }
    },
    {
      "cell_type": "markdown",
      "source": [
        "Let's see the distribution of errors with a confusion matrix over train and test."
      ],
      "metadata": {
        "id": "uyX-hyYj3HMQ"
      }
    },
    {
      "cell_type": "code",
      "source": [
        "from sklearn.metrics import confusion_matrix, ConfusionMatrixDisplay\n",
        "import matplotlib.pyplot as plt\n",
        "# Confusion matrix over train\n",
        "predictions_train = clf_best_model.predict(X_train)\n",
        "cm = confusion_matrix(y_train, predictions_train, labels=clf_best_model.classes_)\n",
        "disp = ConfusionMatrixDisplay(confusion_matrix=cm,display_labels=clf_best_model.classes_)\n",
        "disp.plot()\n",
        "plt.show()\n",
        "\n",
        "# Confusion matrix over test\n",
        "predictions_train = clf_best_model.predict(X_test)\n",
        "cm = confusion_matrix(y_test, predictions_train, labels=clf_best_model.classes_)\n",
        "disp = ConfusionMatrixDisplay(confusion_matrix=cm,display_labels=clf_best_model.classes_)\n",
        "disp.plot()\n",
        "plt.show()"
      ],
      "metadata": {
        "colab": {
          "base_uri": "https://localhost:8080/",
          "height": 897
        },
        "id": "rjLObA-c3Yt8",
        "outputId": "4c4e0566-04b3-46bd-c2a1-4bb42b9c61f9"
      },
      "execution_count": 33,
      "outputs": [
        {
          "output_type": "display_data",
          "data": {
            "text/plain": [
              "<Figure size 640x480 with 2 Axes>"
            ],
            "image/png": "[encoded data removed]"
          },
          "metadata": {}
        },
        {
          "output_type": "display_data",
          "data": {
            "text/plain": [
              "<Figure size 640x480 with 2 Axes>"
            ],
            "image/png": "[encoded data removed]"
          },
          "metadata": {}
        }
      ]
    },
    {
      "cell_type": "markdown",
      "source": [
        "We can see that the model, in general, overfits by predicting the majority class (Fake audio). To address this issue, we could consider optimizing the training process by taking the following steps:\n",
        "\n",
        "Using a different evaluation metric, such as \"Recall,\" which focuses on reducing false negatives, or the \"F1\" score, which combines \"Recall\" and \"Precision.\"\n",
        "\n",
        "Balancing the training data prior to model training by employing techniques like oversampling, undersampling, or more sophisticated methods available in the 'imbalanced-learn' library, which can be found at <a href='https://imbalanced-learn.org/stable/index.html'>imbalanced-learn</a>.\n",
        "\n",
        "But as baseline ML model, we only will keep this in mind and to try to solve it with DL ML."
      ],
      "metadata": {
        "id": "Vn6GWkl_4EAo"
      }
    }
  ]
}