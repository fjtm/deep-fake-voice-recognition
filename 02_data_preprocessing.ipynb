{
  "nbformat": 4,
  "nbformat_minor": 0,
  "metadata": {
    "colab": {
      "provenance": [],
      "include_colab_link": true
    },
    "kernelspec": {
      "name": "python3",
      "display_name": "Python 3"
    },
    "language_info": {
      "name": "python"
    }
  },
  "cells": [
    {
      "cell_type": "markdown",
      "metadata": {
        "id": "view-in-github",
        "colab_type": "text"
      },
      "source": [
        "<a href=\"https://colab.research.google.com/github/fjtm/deep-fake-voice-recognition/blob/feature%2Fstart/02_data_preprocessing.ipynb\" target=\"_parent\"><img src=\"https://colab.research.google.com/assets/colab-badge.svg\" alt=\"Open In Colab\"/></a>"
      ]
    },
    {
      "cell_type": "markdown",
      "source": [
        "# Data preprocessing\n",
        "\n",
        "Introduction:\n",
        "\n",
        "The initial steps include cloning a repository, installing necessary packages, and downloading a dataset for deep fake voice recognition. The subsequent sections cover audio data preprocessing, multithreading optimization checks, and data preprocessing before saving. The notebook concludes with loading the processed data, train/test split, and an overview of the resulting datasets."
      ],
      "metadata": {
        "id": "wXUpK7_kA3K-"
      }
    },
    {
      "cell_type": "code",
      "source": [
        "# !git clone -b feature/start https://github.com/fjtm/deep-fake-voice-recognition.git\n",
        "%cd deep-fake-voice-recognition/"
      ],
      "metadata": {
        "id": "BHV8dGBzn3Eo",
        "outputId": "63426949-93c8-4811-ab51-5405685f90c0",
        "colab": {
          "base_uri": "https://localhost:8080/"
        }
      },
      "execution_count": null,
      "outputs": [
        {
          "output_type": "stream",
          "name": "stdout",
          "text": [
            "/content/deep-fake-voice-recognition\n"
          ]
        }
      ]
    },
    {
      "cell_type": "code",
      "source": [
        "! pip install -q kaggle\n",
        "! pip install playsound\n",
        "! pip install pydub"
      ],
      "metadata": {
        "id": "woTq-YxDqvEE"
      },
      "execution_count": null,
      "outputs": []
    },
    {
      "cell_type": "code",
      "source": [
        "import IPython\n",
        "from scipy.io import wavfile\n",
        "from pydub import AudioSegment\n",
        "import pandas as pd\n",
        "import numpy as np\n",
        "import librosa\n",
        "import librosa.display\n",
        "import matplotlib.pyplot as plt\n"
      ],
      "metadata": {
        "id": "xow5gRrJnGTa"
      },
      "execution_count": null,
      "outputs": []
    },
    {
      "cell_type": "code",
      "execution_count": null,
      "metadata": {
        "id": "AAOAgky8hhub"
      },
      "outputs": [],
      "source": [
        "from google.colab import files\n",
        "files.upload()\n",
        "! mkdir ~/.kaggle\n",
        "! cp kaggle.json ~/.kaggle/\n",
        "! chmod 600 ~/.kaggle/kaggle.json\n",
        "! kaggle datasets download -d birdy654/deep-voice-deepfake-voice-recognition\n",
        "! unzip deep-voice-deepfake-voice-recognition.zip"
      ]
    },
    {
      "cell_type": "markdown",
      "source": [
        "# Build a base module to extract audio properties"
      ],
      "metadata": {
        "id": "B9THK798snM2"
      }
    },
    {
      "cell_type": "code",
      "source": [
        "from preprocess.AudioProperties import process_audio_files"
      ],
      "metadata": {
        "id": "W1rEdHks73LL"
      },
      "execution_count": null,
      "outputs": []
    },
    {
      "cell_type": "markdown",
      "source": [
        "# Check multithreading optimization"
      ],
      "metadata": {
        "id": "4-A2opdaLUd7"
      }
    },
    {
      "cell_type": "code",
      "source": [
        "import os\n",
        "# List of audio files\n",
        "audio_files = [\n",
        "    os.path.join(path, file)\n",
        "    for path, directories, files in os.walk(\"KAGGLE/AUDIO/\")\n",
        "    for file in files\n",
        "    ]"
      ],
      "metadata": {
        "id": "hybfkBrjWyid"
      },
      "execution_count": null,
      "outputs": []
    },
    {
      "cell_type": "code",
      "source": [
        "audio_results = process_audio_files(audio_files[0:16], num_threads = 1)"
      ],
      "metadata": {
        "colab": {
          "base_uri": "https://localhost:8080/"
        },
        "id": "fwUKXMOdGMjy",
        "outputId": "cb7d5bee-1def-4ba9-d2f6-58362877e0ef"
      },
      "execution_count": null,
      "outputs": [
        {
          "output_type": "stream",
          "name": "stdout",
          "text": [
            "Progress: 16/16 (100.00%)\n",
            "Processing completed.\n",
            "Total time taken: 570.17 seconds\n"
          ]
        }
      ]
    },
    {
      "cell_type": "code",
      "source": [
        "audio_results = process_audio_files(audio_files[0:16], num_threads = None)"
      ],
      "metadata": {
        "colab": {
          "base_uri": "https://localhost:8080/"
        },
        "id": "QXvjYSuJGa_m",
        "outputId": "e3234eef-cab8-4fd2-c99a-09a7ebf735e9"
      },
      "execution_count": null,
      "outputs": [
        {
          "output_type": "stream",
          "name": "stdout",
          "text": [
            "Progress: 16/16 (100.00%)\n",
            "Processing completed.\n",
            "Total time taken: 449.71 seconds\n"
          ]
        }
      ]
    },
    {
      "cell_type": "markdown",
      "source": [
        "# Preprocess data"
      ],
      "metadata": {
        "id": "CWLfMhh1MVdn"
      }
    },
    {
      "cell_type": "code",
      "source": [
        "see = process_audio_files(audio_files[0:2], num_threads = None)"
      ],
      "metadata": {
        "id": "yNUUYP0XJ7TS",
        "outputId": "fc6247f3-6566-475d-fec3-aa1c7dc2bb67",
        "colab": {
          "base_uri": "https://localhost:8080/"
        }
      },
      "execution_count": null,
      "outputs": [
        {
          "output_type": "stream",
          "name": "stdout",
          "text": [
            "Progress: 2/2 (100.00%)\n",
            "Processing completed.\n",
            "Total time taken: 47.59 seconds\n"
          ]
        }
      ]
    },
    {
      "cell_type": "markdown",
      "source": [
        "# Save data"
      ],
      "metadata": {
        "id": "NiFYioX3Nt9d"
      }
    },
    {
      "cell_type": "code",
      "source": [
        "from common.SaveLoad import save_data_zip"
      ],
      "metadata": {
        "id": "oRv5OQVdCDZM"
      },
      "execution_count": null,
      "outputs": []
    },
    {
      "cell_type": "code",
      "source": [
        "from google.colab import drive\n",
        "drive.mount('/content/drive')"
      ],
      "metadata": {
        "id": "P_Z6qu5XQx5T",
        "outputId": "eda74965-bfb3-4d9e-c256-70e5881c53c6",
        "colab": {
          "base_uri": "https://localhost:8080/"
        }
      },
      "execution_count": null,
      "outputs": [
        {
          "output_type": "stream",
          "name": "stdout",
          "text": [
            "Drive already mounted at /content/drive; to attempt to forcibly remount, call drive.mount(\"/content/drive\", force_remount=True).\n"
          ]
        }
      ]
    },
    {
      "cell_type": "code",
      "source": [
        "import time\n",
        "from IPython.display import clear_output\n",
        "\n",
        "start_time = time.time()\n",
        "for i, sub_audio_files in enumerate([audio_files[i:i+16] for i in range(0, len(audio_files), 16)]):\n",
        "    save_data_zip(sub_audio_files, i)\n",
        "\n",
        "end_time = time.time()\n",
        "execution_time = end_time - start_time\n",
        "clear_output(wait=True)\n",
        "print(f'Execution time: {execution_time:.2f} seconds')"
      ],
      "metadata": {
        "id": "UxO0SqeSMfig",
        "outputId": "49be4193-753b-445a-e3ce-4bb755371de6",
        "colab": {
          "base_uri": "https://localhost:8080/"
        }
      },
      "execution_count": null,
      "outputs": [
        {
          "output_type": "stream",
          "name": "stdout",
          "text": [
            "Execution time: 1393.96 seconds\n"
          ]
        }
      ]
    },
    {
      "cell_type": "markdown",
      "source": [
        "# Loading data"
      ],
      "metadata": {
        "id": "1sr_u4ew03xd"
      }
    },
    {
      "cell_type": "code",
      "source": [
        "from common.SaveLoad import read_data_zip"
      ],
      "metadata": {
        "id": "9BmpOUFuFyU-"
      },
      "execution_count": null,
      "outputs": []
    },
    {
      "cell_type": "code",
      "source": [
        "import pandas as pd\n",
        "import os\n",
        "zip_files_path = f'/content/drive/My Drive/deep-fake-voice-recognition/data/'\n",
        "\n",
        "df = (\n",
        "    pd.concat(\n",
        "        [read_data_zip(zip_files_path+file, csv_encoding='utf-8')\n",
        "        for file in os.listdir(zip_files_path)\n",
        "        ],\n",
        "        axis = 0,\n",
        "        ignore_index = True,\n",
        "        sort = False\n",
        "        )\n",
        "    )"
      ],
      "metadata": {
        "id": "EYornDZD0eIZ"
      },
      "execution_count": null,
      "outputs": []
    },
    {
      "cell_type": "markdown",
      "source": [
        "# Train/test split"
      ],
      "metadata": {
        "id": "FDCmoD2351Oi"
      }
    },
    {
      "cell_type": "code",
      "source": [
        "from preprocess.TrainTestPrepare import add_index_label, train_test_split"
      ],
      "metadata": {
        "id": "LiLP0BdzFa6w"
      },
      "execution_count": null,
      "outputs": []
    },
    {
      "cell_type": "code",
      "source": [
        "target_column = \"target\"\n",
        "index_columns = \"ind_num\"\n",
        "not_data_columns = [\"label\", \"ind\", \"target\",\"ind_num\"]"
      ],
      "metadata": {
        "id": "T0nNDDyj1WUd"
      },
      "execution_count": null,
      "outputs": []
    },
    {
      "cell_type": "code",
      "source": [
        "df = add_index_label(df)\n",
        "train, test = train_test_split(df)"
      ],
      "metadata": {
        "id": "QxlnBTh060mw"
      },
      "execution_count": null,
      "outputs": []
    },
    {
      "cell_type": "code",
      "source": [
        "X_train, y_train = train.drop(not_data_columns, axis = 1), train[target_column]\n",
        "X_test, y_test = test.drop(not_data_columns, axis = 1), test[target_column]"
      ],
      "metadata": {
        "id": "a2BngaIr-tlN"
      },
      "execution_count": null,
      "outputs": []
    },
    {
      "cell_type": "code",
      "source": [
        "X_train.shape, y_train.shape, X_test.shape, y_test.shape"
      ],
      "metadata": {
        "colab": {
          "base_uri": "https://localhost:8080/"
        },
        "id": "mT57qGHv_zfI",
        "outputId": "4c49e792-6f72-4755-d5df-cd5580d13b56"
      },
      "execution_count": null,
      "outputs": [
        {
          "output_type": "execute_result",
          "data": {
            "text/plain": [
              "((1857240, 58), (1857240,), (716918, 58), (716918,))"
            ]
          },
          "metadata": {},
          "execution_count": 9
        }
      ]
    }
  ]
}