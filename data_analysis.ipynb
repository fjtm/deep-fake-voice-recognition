{
  "nbformat": 4,
  "nbformat_minor": 0,
  "metadata": {
    "colab": {
      "provenance": [],
      "include_colab_link": true
    },
    "kernelspec": {
      "name": "python3",
      "display_name": "Python 3"
    },
    "language_info": {
      "name": "python"
    }
  },
  "cells": [
    {
      "cell_type": "markdown",
      "metadata": {
        "id": "view-in-github",
        "colab_type": "text"
      },
      "source": [
        "<a href=\"https://colab.research.google.com/github/fjtm/deep-fake-voice-recognition/blob/feature%2Fstart/data_analysis.ipynb\" target=\"_parent\"><img src=\"https://colab.research.google.com/assets/colab-badge.svg\" alt=\"Open In Colab\"/></a>"
      ]
    },
    {
      "cell_type": "code",
      "source": [
        "! pip install -q kaggle\n",
        "! pip install playsound\n",
        "! pip install pydub"
      ],
      "metadata": {
        "id": "woTq-YxDqvEE",
        "colab": {
          "base_uri": "https://localhost:8080/"
        },
        "outputId": "94ef63de-b002-4edd-b5cd-ca3da8d39827"
      },
      "execution_count": null,
      "outputs": [
        {
          "output_type": "stream",
          "name": "stdout",
          "text": [
            "Requirement already satisfied: playsound in /usr/local/lib/python3.10/dist-packages (1.3.0)\n"
          ]
        }
      ]
    },
    {
      "cell_type": "code",
      "source": [],
      "metadata": {
        "id": "NoxxmmmiusL9"
      },
      "execution_count": null,
      "outputs": []
    },
    {
      "cell_type": "code",
      "source": [
        "import IPython\n",
        "from scipy.io import wavfile\n",
        "from pydub import AudioSegment\n",
        "import pandas as pd\n",
        "import numpy as np\n",
        "import librosa\n",
        "import librosa.display\n",
        "import matplotlib.pyplot as plt\n"
      ],
      "metadata": {
        "id": "xow5gRrJnGTa"
      },
      "execution_count": null,
      "outputs": []
    },
    {
      "cell_type": "code",
      "execution_count": null,
      "metadata": {
        "id": "AAOAgky8hhub"
      },
      "outputs": [],
      "source": [
        "from google.colab import files\n",
        "files.upload()\n",
        "! mkdir ~/.kaggle\n",
        "! cp kaggle.json ~/.kaggle/\n",
        "! chmod 600 ~/.kaggle/kaggle.json\n",
        "! kaggle datasets download -d birdy654/deep-voice-deepfake-voice-recognition\n",
        "! unzip deep-voice-deepfake-voice-recognition.zip"
      ]
    },
    {
      "cell_type": "markdown",
      "source": [
        "Example of real and fake audios"
      ],
      "metadata": {
        "id": "aaxacX5lnesL"
      }
    },
    {
      "cell_type": "code",
      "source": [
        "real_audio = \"DEMONSTRATION/DEMONSTRATION/linus-original-DEMO.mp3\"\n",
        "fake_audio = \"DEMONSTRATION/DEMONSTRATION/linus-to-musk-DEMO.mp3\""
      ],
      "metadata": {
        "id": "d_0bGmmFmjy-"
      },
      "execution_count": null,
      "outputs": []
    },
    {
      "cell_type": "markdown",
      "source": [],
      "metadata": {
        "id": "IFW1ozzB_cra"
      }
    },
    {
      "cell_type": "code",
      "source": [
        "IPython.display.Audio(real_audio)"
      ],
      "metadata": {
        "id": "RBh4SnHmnDJu"
      },
      "execution_count": null,
      "outputs": []
    },
    {
      "cell_type": "code",
      "source": [
        "IPython.display.Audio(fake_audio)"
      ],
      "metadata": {
        "id": "7iVB7QQ-nRVc"
      },
      "execution_count": null,
      "outputs": []
    },
    {
      "cell_type": "code",
      "source": [
        "AudioSegment.from_wav(\"KAGGLE/AUDIO/FAKE/Obama-to-Biden.wav\")"
      ],
      "metadata": {
        "id": "EjJsbLUyYvqt"
      },
      "execution_count": null,
      "outputs": []
    },
    {
      "cell_type": "code",
      "source": [
        "AudioSegment.from_wav( \"KAGGLE/AUDIO/REAL/biden-original.wav\")"
      ],
      "metadata": {
        "id": "SPruIendY0Wr"
      },
      "execution_count": null,
      "outputs": []
    },
    {
      "cell_type": "markdown",
      "source": [
        "# Loading data exapmle"
      ],
      "metadata": {
        "id": "BAKQ9OvL5Jua"
      }
    },
    {
      "cell_type": "code",
      "source": [
        "# Load an audio file\n",
        "audio_file = \"KAGGLE/AUDIO/FAKE/Obama-to-Biden.wav\"\n",
        "y, sr = librosa.load(audio_file, sr = 10000)"
      ],
      "metadata": {
        "id": "KL1O9qQo5J2P"
      },
      "execution_count": null,
      "outputs": []
    },
    {
      "cell_type": "markdown",
      "source": [
        "# Chromagram from a waveform."
      ],
      "metadata": {
        "id": "x98dhuyX3pke"
      }
    },
    {
      "cell_type": "code",
      "source": [
        "# Compute the chromagram\n",
        "chroma = librosa.feature.chroma_stft(y=y, sr=sr, n_chroma = 12)\n",
        "\n",
        "# Display the chromagram\n",
        "plt.figure(figsize=(10, 4))\n",
        "librosa.display.specshow(chroma, y_axis='chroma', x_axis='time')\n",
        "plt.colorbar()\n",
        "plt.title('Chromagram')\n",
        "plt.tight_layout()\n",
        "plt.show()"
      ],
      "metadata": {
        "id": "TC7kEryEwAGV"
      },
      "execution_count": null,
      "outputs": []
    },
    {
      "cell_type": "markdown",
      "source": [
        "# RMS root-mean-square Value for each frame"
      ],
      "metadata": {
        "id": "BrKieV-C5WsC"
      }
    },
    {
      "cell_type": "code",
      "source": [
        "# Compute the chromagram\n",
        "rms = librosa.feature.rms(y=y)\n",
        "\n",
        "# Create a plot of the RMS\n",
        "plt.figure(figsize=(10, 4))\n",
        "librosa.display.waveshow(rms, sr=sr, x_axis='time')\n",
        "plt.title(\"RMS of Audio Signal\")\n",
        "plt.show()"
      ],
      "metadata": {
        "id": "KGjd6WB55WyG"
      },
      "execution_count": null,
      "outputs": []
    },
    {
      "cell_type": "markdown",
      "source": [
        "# Spectral centroid"
      ],
      "metadata": {
        "id": "nOCuZ1pl9d7Z"
      }
    },
    {
      "cell_type": "code",
      "source": [
        "cent = librosa.feature.spectral_centroid(y=y, sr=sr)\n",
        "S, phase = librosa.magphase(librosa.stft(y=y))\n",
        "\n",
        "freqs, times, D = librosa.reassigned_spectrogram(y, fill_nan=True)\n",
        "\n",
        "times = librosa.times_like(cent)\n",
        "fig, ax = plt.subplots()\n",
        "librosa.display.specshow(librosa.amplitude_to_db(S, ref=np.max),\n",
        "                         y_axis='log', x_axis='time', ax=ax)\n",
        "ax.plot(times, cent.T, label='Spectral centroid', color='w')\n",
        "ax.legend(loc='upper right')\n",
        "ax.set(title='log Power spectrogram')"
      ],
      "metadata": {
        "id": "w0lMQPM-9d_r"
      },
      "execution_count": null,
      "outputs": []
    },
    {
      "cell_type": "markdown",
      "source": [
        "# Spectral bandwidth"
      ],
      "metadata": {
        "id": "SuBX18Rt-iNb"
      }
    },
    {
      "cell_type": "code",
      "source": [
        "pd.read_csv(\"KAGGLE/DATASET-balanced.csv\").T"
      ],
      "metadata": {
        "id": "8OgVeaR0ugUd"
      },
      "execution_count": null,
      "outputs": []
    }
  ]
}