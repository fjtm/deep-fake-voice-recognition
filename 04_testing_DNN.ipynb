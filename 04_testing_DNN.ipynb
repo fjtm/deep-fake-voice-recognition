{
  "nbformat": 4,
  "nbformat_minor": 0,
  "metadata": {
    "colab": {
      "provenance": [],
      "gpuType": "T4",
      "authorship_tag": "ABX9TyOifVTSdCuC+fJYiUQHrBJr",
      "include_colab_link": true
    },
    "kernelspec": {
      "name": "python3",
      "display_name": "Python 3"
    },
    "language_info": {
      "name": "python"
    },
    "accelerator": "GPU",
    "widgets": {
      "application/vnd.jupyter.widget-state+json": {
        "941d615dd452411ebd1a359a87fb23ce": {
          "model_module": "@jupyter-widgets/controls",
          "model_name": "HBoxModel",
          "model_module_version": "1.5.0",
          "state": {
            "_dom_classes": [],
            "_model_module": "@jupyter-widgets/controls",
            "_model_module_version": "1.5.0",
            "_model_name": "HBoxModel",
            "_view_count": null,
            "_view_module": "@jupyter-widgets/controls",
            "_view_module_version": "1.5.0",
            "_view_name": "HBoxView",
            "box_style": "",
            "children": [
              "IPY_MODEL_7e62f7754be944d79b5b36169d9d47a0",
              "IPY_MODEL_c72ac79bb86643159cf0ab4d90594824",
              "IPY_MODEL_70f8ec6ea0624d838ee2e937345ceae6"
            ],
            "layout": "IPY_MODEL_d96733fe5a32410d93ddd9317986b010"
          }
        },
        "7e62f7754be944d79b5b36169d9d47a0": {
          "model_module": "@jupyter-widgets/controls",
          "model_name": "HTMLModel",
          "model_module_version": "1.5.0",
          "state": {
            "_dom_classes": [],
            "_model_module": "@jupyter-widgets/controls",
            "_model_module_version": "1.5.0",
            "_model_name": "HTMLModel",
            "_view_count": null,
            "_view_module": "@jupyter-widgets/controls",
            "_view_module_version": "1.5.0",
            "_view_name": "HTMLView",
            "description": "",
            "description_tooltip": null,
            "layout": "IPY_MODEL_e286d824d5314f88a18d842a54a7c51e",
            "placeholder": "​",
            "style": "IPY_MODEL_1e1de9a2dfd94baf8f34f10e9b344580",
            "value": "100%"
          }
        },
        "c72ac79bb86643159cf0ab4d90594824": {
          "model_module": "@jupyter-widgets/controls",
          "model_name": "FloatProgressModel",
          "model_module_version": "1.5.0",
          "state": {
            "_dom_classes": [],
            "_model_module": "@jupyter-widgets/controls",
            "_model_module_version": "1.5.0",
            "_model_name": "FloatProgressModel",
            "_view_count": null,
            "_view_module": "@jupyter-widgets/controls",
            "_view_module_version": "1.5.0",
            "_view_name": "ProgressView",
            "bar_style": "success",
            "description": "",
            "description_tooltip": null,
            "layout": "IPY_MODEL_b5892a29d53842858f413e10d8ef0d34",
            "max": 10,
            "min": 0,
            "orientation": "horizontal",
            "style": "IPY_MODEL_f71409533e254518b719aa065e7b7055",
            "value": 10
          }
        },
        "70f8ec6ea0624d838ee2e937345ceae6": {
          "model_module": "@jupyter-widgets/controls",
          "model_name": "HTMLModel",
          "model_module_version": "1.5.0",
          "state": {
            "_dom_classes": [],
            "_model_module": "@jupyter-widgets/controls",
            "_model_module_version": "1.5.0",
            "_model_name": "HTMLModel",
            "_view_count": null,
            "_view_module": "@jupyter-widgets/controls",
            "_view_module_version": "1.5.0",
            "_view_name": "HTMLView",
            "description": "",
            "description_tooltip": null,
            "layout": "IPY_MODEL_39e62d3420be4464991150ce1e820ed9",
            "placeholder": "​",
            "style": "IPY_MODEL_01c1028bcb154663b80ed36c40c2494b",
            "value": " 10/10 [03:13&lt;00:00, 19.27s/it]"
          }
        },
        "d96733fe5a32410d93ddd9317986b010": {
          "model_module": "@jupyter-widgets/base",
          "model_name": "LayoutModel",
          "model_module_version": "1.2.0",
          "state": {
            "_model_module": "@jupyter-widgets/base",
            "_model_module_version": "1.2.0",
            "_model_name": "LayoutModel",
            "_view_count": null,
            "_view_module": "@jupyter-widgets/base",
            "_view_module_version": "1.2.0",
            "_view_name": "LayoutView",
            "align_content": null,
            "align_items": null,
            "align_self": null,
            "border": null,
            "bottom": null,
            "display": null,
            "flex": null,
            "flex_flow": null,
            "grid_area": null,
            "grid_auto_columns": null,
            "grid_auto_flow": null,
            "grid_auto_rows": null,
            "grid_column": null,
            "grid_gap": null,
            "grid_row": null,
            "grid_template_areas": null,
            "grid_template_columns": null,
            "grid_template_rows": null,
            "height": null,
            "justify_content": null,
            "justify_items": null,
            "left": null,
            "margin": null,
            "max_height": null,
            "max_width": null,
            "min_height": null,
            "min_width": null,
            "object_fit": null,
            "object_position": null,
            "order": null,
            "overflow": null,
            "overflow_x": null,
            "overflow_y": null,
            "padding": null,
            "right": null,
            "top": null,
            "visibility": null,
            "width": null
          }
        },
        "e286d824d5314f88a18d842a54a7c51e": {
          "model_module": "@jupyter-widgets/base",
          "model_name": "LayoutModel",
          "model_module_version": "1.2.0",
          "state": {
            "_model_module": "@jupyter-widgets/base",
            "_model_module_version": "1.2.0",
            "_model_name": "LayoutModel",
            "_view_count": null,
            "_view_module": "@jupyter-widgets/base",
            "_view_module_version": "1.2.0",
            "_view_name": "LayoutView",
            "align_content": null,
            "align_items": null,
            "align_self": null,
            "border": null,
            "bottom": null,
            "display": null,
            "flex": null,
            "flex_flow": null,
            "grid_area": null,
            "grid_auto_columns": null,
            "grid_auto_flow": null,
            "grid_auto_rows": null,
            "grid_column": null,
            "grid_gap": null,
            "grid_row": null,
            "grid_template_areas": null,
            "grid_template_columns": null,
            "grid_template_rows": null,
            "height": null,
            "justify_content": null,
            "justify_items": null,
            "left": null,
            "margin": null,
            "max_height": null,
            "max_width": null,
            "min_height": null,
            "min_width": null,
            "object_fit": null,
            "object_position": null,
            "order": null,
            "overflow": null,
            "overflow_x": null,
            "overflow_y": null,
            "padding": null,
            "right": null,
            "top": null,
            "visibility": null,
            "width": null
          }
        },
        "1e1de9a2dfd94baf8f34f10e9b344580": {
          "model_module": "@jupyter-widgets/controls",
          "model_name": "DescriptionStyleModel",
          "model_module_version": "1.5.0",
          "state": {
            "_model_module": "@jupyter-widgets/controls",
            "_model_module_version": "1.5.0",
            "_model_name": "DescriptionStyleModel",
            "_view_count": null,
            "_view_module": "@jupyter-widgets/base",
            "_view_module_version": "1.2.0",
            "_view_name": "StyleView",
            "description_width": ""
          }
        },
        "b5892a29d53842858f413e10d8ef0d34": {
          "model_module": "@jupyter-widgets/base",
          "model_name": "LayoutModel",
          "model_module_version": "1.2.0",
          "state": {
            "_model_module": "@jupyter-widgets/base",
            "_model_module_version": "1.2.0",
            "_model_name": "LayoutModel",
            "_view_count": null,
            "_view_module": "@jupyter-widgets/base",
            "_view_module_version": "1.2.0",
            "_view_name": "LayoutView",
            "align_content": null,
            "align_items": null,
            "align_self": null,
            "border": null,
            "bottom": null,
            "display": null,
            "flex": null,
            "flex_flow": null,
            "grid_area": null,
            "grid_auto_columns": null,
            "grid_auto_flow": null,
            "grid_auto_rows": null,
            "grid_column": null,
            "grid_gap": null,
            "grid_row": null,
            "grid_template_areas": null,
            "grid_template_columns": null,
            "grid_template_rows": null,
            "height": null,
            "justify_content": null,
            "justify_items": null,
            "left": null,
            "margin": null,
            "max_height": null,
            "max_width": null,
            "min_height": null,
            "min_width": null,
            "object_fit": null,
            "object_position": null,
            "order": null,
            "overflow": null,
            "overflow_x": null,
            "overflow_y": null,
            "padding": null,
            "right": null,
            "top": null,
            "visibility": null,
            "width": null
          }
        },
        "f71409533e254518b719aa065e7b7055": {
          "model_module": "@jupyter-widgets/controls",
          "model_name": "ProgressStyleModel",
          "model_module_version": "1.5.0",
          "state": {
            "_model_module": "@jupyter-widgets/controls",
            "_model_module_version": "1.5.0",
            "_model_name": "ProgressStyleModel",
            "_view_count": null,
            "_view_module": "@jupyter-widgets/base",
            "_view_module_version": "1.2.0",
            "_view_name": "StyleView",
            "bar_color": null,
            "description_width": ""
          }
        },
        "39e62d3420be4464991150ce1e820ed9": {
          "model_module": "@jupyter-widgets/base",
          "model_name": "LayoutModel",
          "model_module_version": "1.2.0",
          "state": {
            "_model_module": "@jupyter-widgets/base",
            "_model_module_version": "1.2.0",
            "_model_name": "LayoutModel",
            "_view_count": null,
            "_view_module": "@jupyter-widgets/base",
            "_view_module_version": "1.2.0",
            "_view_name": "LayoutView",
            "align_content": null,
            "align_items": null,
            "align_self": null,
            "border": null,
            "bottom": null,
            "display": null,
            "flex": null,
            "flex_flow": null,
            "grid_area": null,
            "grid_auto_columns": null,
            "grid_auto_flow": null,
            "grid_auto_rows": null,
            "grid_column": null,
            "grid_gap": null,
            "grid_row": null,
            "grid_template_areas": null,
            "grid_template_columns": null,
            "grid_template_rows": null,
            "height": null,
            "justify_content": null,
            "justify_items": null,
            "left": null,
            "margin": null,
            "max_height": null,
            "max_width": null,
            "min_height": null,
            "min_width": null,
            "object_fit": null,
            "object_position": null,
            "order": null,
            "overflow": null,
            "overflow_x": null,
            "overflow_y": null,
            "padding": null,
            "right": null,
            "top": null,
            "visibility": null,
            "width": null
          }
        },
        "01c1028bcb154663b80ed36c40c2494b": {
          "model_module": "@jupyter-widgets/controls",
          "model_name": "DescriptionStyleModel",
          "model_module_version": "1.5.0",
          "state": {
            "_model_module": "@jupyter-widgets/controls",
            "_model_module_version": "1.5.0",
            "_model_name": "DescriptionStyleModel",
            "_view_count": null,
            "_view_module": "@jupyter-widgets/base",
            "_view_module_version": "1.2.0",
            "_view_name": "StyleView",
            "description_width": ""
          }
        }
      }
    }
  },
  "cells": [
    {
      "cell_type": "markdown",
      "metadata": {
        "id": "view-in-github",
        "colab_type": "text"
      },
      "source": [
        "<a href=\"https://colab.research.google.com/github/fjtm/deep-fake-voice-recognition/blob/feature%2Fstart/04_testing_DNN.ipynb\" target=\"_parent\"><img src=\"https://colab.research.google.com/assets/colab-badge.svg\" alt=\"Open In Colab\"/></a>"
      ]
    },
    {
      "cell_type": "markdown",
      "source": [
        "# Simple Exploration of Dense Networks with PyTorch\n",
        "\n",
        "Introduction:\n",
        "\n",
        "In this notebook, we will practically delve into the implementation and evaluation of dense networks using PyTorch. Dense networks, also known as fully connected networks, are essential in deep learning. This exercise will allow us to delve into building dense layers, designing network architectures, and understanding the training process in PyTorch."
      ],
      "metadata": {
        "id": "pNZEghzm8Xve"
      }
    },
    {
      "cell_type": "code",
      "source": [
        "!pip install torchmetrics"
      ],
      "metadata": {
        "id": "cz4fZY2weH6k"
      },
      "execution_count": null,
      "outputs": []
    },
    {
      "cell_type": "code",
      "source": [
        "from google.colab import drive\n",
        "drive.mount('/content/drive')"
      ],
      "metadata": {
        "colab": {
          "base_uri": "https://localhost:8080/"
        },
        "id": "WWZ-OiF4ZLBM",
        "outputId": "cba1b7f0-cf8c-42a0-a6e7-42593b812d7c"
      },
      "execution_count": 3,
      "outputs": [
        {
          "output_type": "stream",
          "name": "stdout",
          "text": [
            "Mounted at /content/drive\n"
          ]
        }
      ]
    },
    {
      "cell_type": "markdown",
      "source": [
        "# Loading and balancing data"
      ],
      "metadata": {
        "id": "oi_au16Z8fQi"
      }
    },
    {
      "cell_type": "code",
      "source": [
        "import torch\n",
        "import pandas as pd\n",
        "import numpy as np"
      ],
      "metadata": {
        "id": "0A4V14odTHyG"
      },
      "execution_count": 5,
      "outputs": []
    },
    {
      "cell_type": "code",
      "source": [
        "csv_files_path = f'/content/drive/My Drive/deep-fake-voice-recognition/data/'\n",
        "train = pd.read_csv(csv_files_path+\"train.csv\")\n",
        "test = pd.read_csv(csv_files_path+\"test.csv\")\n",
        "train = train[train.ind_num <=7].copy() #Balanced dataset"
      ],
      "metadata": {
        "id": "GKmiLHJjZTRA"
      },
      "execution_count": 147,
      "outputs": []
    },
    {
      "cell_type": "code",
      "source": [
        "target_column = \"target\"\n",
        "index_columns = \"ind_num\"\n",
        "not_data_columns = [\"label\", \"ind\", \"target\",\"ind_num\"]"
      ],
      "metadata": {
        "id": "rK5xb4HCZcAY"
      },
      "execution_count": 148,
      "outputs": []
    },
    {
      "cell_type": "markdown",
      "source": [
        "# Preparing tensors with train/test data"
      ],
      "metadata": {
        "id": "wl8tqlEp8m33"
      }
    },
    {
      "cell_type": "code",
      "source": [
        "def MaxMinScalerTorch(data, dim = 0):\n",
        "    data_min = data.min(dim=dim, keepdim=True).values\n",
        "    data_max = data.max(dim=dim, keepdim=True).values\n",
        "    scaled_data = (data - data_min) / (data_max - data_min)\n",
        "    return scaled_data"
      ],
      "metadata": {
        "id": "voF1I4bZmlm3"
      },
      "execution_count": 189,
      "outputs": []
    },
    {
      "cell_type": "code",
      "source": [
        "X_train = torch.tensor(train.drop(not_data_columns, axis = 1).values).type(torch.float)\n",
        "y_train = torch.tensor(train[target_column].values).type(torch.float).view(-1, 1)\n",
        "X_test = torch.tensor(test.drop(not_data_columns, axis = 1).values).type(torch.float)\n",
        "y_test = torch.tensor(test[target_column].values).type(torch.float).view(-1, 1)\n",
        "\n",
        "# Scale\n",
        "X_train = MaxMinScalerTorch(X_train)\n",
        "X_test = MaxMinScalerTorch(X_test)\n",
        "\n",
        "X_train.size(), y_train.size(), X_test.size(), y_test.size()"
      ],
      "metadata": {
        "id": "h2iiqgO2Ze0H",
        "outputId": "3b6b0508-0ede-4853-c7b7-42c0e9fd231c",
        "colab": {
          "base_uri": "https://localhost:8080/"
        }
      },
      "execution_count": 227,
      "outputs": [
        {
          "output_type": "execute_result",
          "data": {
            "text/plain": [
              "(torch.Size([620474, 58]),\n",
              " torch.Size([620474, 1]),\n",
              " torch.Size([716918, 58]),\n",
              " torch.Size([716918, 1]))"
            ]
          },
          "metadata": {},
          "execution_count": 227
        }
      ]
    },
    {
      "cell_type": "code",
      "source": [
        "# Make device agnostic code to use GPU\n",
        "device = \"cuda\" if torch.cuda.is_available() else \"cpu\"\n",
        "device"
      ],
      "metadata": {
        "colab": {
          "base_uri": "https://localhost:8080/",
          "height": 36
        },
        "id": "pQNBsXmDZhFD",
        "outputId": "2ca3db48-ff4a-43e4-edc6-a80816b68de6"
      },
      "execution_count": 191,
      "outputs": [
        {
          "output_type": "execute_result",
          "data": {
            "text/plain": [
              "'cuda'"
            ],
            "application/vnd.google.colaboratory.intrinsic+json": {
              "type": "string"
            }
          },
          "metadata": {},
          "execution_count": 191
        }
      ]
    },
    {
      "cell_type": "code",
      "source": [
        "import torch\n",
        "import torch.nn as nn\n",
        "\n",
        "class DNNWithDropout(nn.Module):\n",
        "    \"\"\"\n",
        "    A simple Dense Neural Network with Dropout implemented using PyTorch.\n",
        "\n",
        "    Parameters:\n",
        "        - dropout_rate (float): The dropout rate to be applied to the network layers.\n",
        "    \"\"\"\n",
        "\n",
        "    def __init__(self, dropout_rate=0.5):\n",
        "        super().__init__()\n",
        "\n",
        "        # First dense layer with input size 58 and output size 112\n",
        "        self.layer_1 = nn.Linear(58, 112)\n",
        "\n",
        "        # ReLU activation function to introduce non-linearity\n",
        "        self.relu_1 = nn.ReLU()\n",
        "\n",
        "        # Dropout layer to prevent overfitting, with specified dropout rate\n",
        "        self.dropout_1 = nn.Dropout(p=dropout_rate)\n",
        "\n",
        "        # Second dense layer with input size 112 and output size 1\n",
        "        self.layer_2 = nn.Linear(112, 1)\n",
        "\n",
        "        # Dropout layer after the second dense layer\n",
        "        self.dropout_2 = nn.Dropout(p=dropout_rate)\n",
        "\n",
        "        # Sigmoid activation function to squash the output between 0 and 1\n",
        "        self.sigmoid = nn.Sigmoid()\n",
        "\n",
        "    def forward(self, x):\n",
        "        # Forward pass through the first dense layer\n",
        "        x = self.layer_1(x)\n",
        "\n",
        "        # Applying ReLU activation\n",
        "        x = self.relu_1(x)\n",
        "\n",
        "        # Applying dropout to the output of the first dense layer\n",
        "        x = self.dropout_1(x)\n",
        "\n",
        "        # Forward pass through the second dense layer\n",
        "        x = self.layer_2(x)\n",
        "\n",
        "        # Applying dropout to the output of the second dense layer\n",
        "        x = self.dropout_2(x)\n",
        "\n",
        "        # Applying sigmoid activation to squash the output\n",
        "        x = self.sigmoid(x)\n",
        "\n",
        "        return x"
      ],
      "metadata": {
        "id": "0E37k0bhaQln"
      },
      "execution_count": 228,
      "outputs": []
    },
    {
      "cell_type": "code",
      "source": [
        "# Define model\n",
        "model_0 = DNNWithDropout().to(device)\n",
        "\n",
        "# Create a loss function\n",
        "loss_fn = nn.BCELoss() # BCEWithLogitsLoss = sigmoid built-in\n",
        "\n",
        "# Create an optimizer\n",
        "lr = 0.5\n",
        "optimizer = torch.optim.SGD(params=model_0.parameters(), lr=lr)\n",
        "\n",
        "# Accuracy metric\n",
        "from torchmetrics.classification import BinaryAccuracy\n",
        "acc_metric = BinaryAccuracy().to(device)"
      ],
      "metadata": {
        "id": "Ras1VZA6cwbw"
      },
      "execution_count": 217,
      "outputs": []
    },
    {
      "cell_type": "code",
      "source": [
        "from torch.utils.data import TensorDataset, DataLoader\n",
        "\n",
        "# Create a DataLoader for test and train\n",
        "train_dataset = TensorDataset(X_train, y_train)\n",
        "train_dataloader = DataLoader(train_dataset, batch_size=10000, shuffle=True, num_workers=0)\n",
        "test_dataset = TensorDataset(X_test, y_test)\n",
        "test_dataloader = DataLoader(test_dataset, batch_size=10000, shuffle=True, num_workers=0)"
      ],
      "metadata": {
        "id": "-uUshv5hemip"
      },
      "execution_count": 212,
      "outputs": []
    },
    {
      "cell_type": "code",
      "source": [
        "from timeit import default_timer as timer\n",
        "def print_train_time(start: float, end: float, device: torch.device = None):\n",
        "    \"\"\"Prints difference between start and end time.\n",
        "\n",
        "    Args:\n",
        "        start (float): Start time of computation (preferred in timeit format).\n",
        "        end (float): End time of computation.\n",
        "        device ([type], optional): Device that compute is running on. Defaults to None.\n",
        "\n",
        "    Returns:\n",
        "        float: time between start and end in seconds (higher is longer).\n",
        "    \"\"\"\n",
        "    total_time = end - start\n",
        "    print(f\"Train time on {device}: {total_time:.3f} seconds\")\n",
        "    return total_time"
      ],
      "metadata": {
        "id": "w--ez9umhlC2"
      },
      "execution_count": 213,
      "outputs": []
    },
    {
      "cell_type": "code",
      "source": [
        "# Import tqdm for progress bar\n",
        "from tqdm.auto import tqdm\n",
        "\n",
        "# Set the seed and start the timer\n",
        "torch.manual_seed(42)\n",
        "train_time_start_on_cpu = timer()\n",
        "\n",
        "# Set the number of epochs (we'll keep this small for faster training times)\n",
        "epochs = 10\n",
        "\n",
        "# Create training and testing loop\n",
        "for epoch in tqdm(range(epochs)):\n",
        "    print(f\"Epoch: {epoch}\\n-------\")\n",
        "    ### Training\n",
        "    train_loss = 0\n",
        "    # Add a loop to loop through training batches\n",
        "    for batch, (X, y) in enumerate(train_dataloader):\n",
        "       # Send data to GPU\n",
        "        X, y = X.to(device), y.to(device)\n",
        "        model_0.train()\n",
        "        # 1. Forward pass\n",
        "        y_pred = model_0(X)\n",
        "\n",
        "        # 2. Calculate loss (per batch)\n",
        "        loss = loss_fn(y_pred, y)\n",
        "        train_loss += loss # accumulatively add up the loss per epoch\n",
        "\n",
        "        # 3. Optimizer zero grad\n",
        "        optimizer.zero_grad()\n",
        "\n",
        "        # 4. Loss backward\n",
        "        loss.backward()\n",
        "\n",
        "        # 5. Optimizer step\n",
        "        optimizer.step()\n",
        "\n",
        "        # Print out how many samples have been seen\n",
        "        # if batch % 10 == 0:\n",
        "        #     print(f\"Looked at {batch * len(X)}/{len(train_dataloader.dataset)} samples\")\n",
        "\n",
        "    # Divide total train loss by length of train dataloader (average loss per batch per epoch)\n",
        "    train_loss /= len(train_dataloader)\n",
        "\n",
        "    ### Testing\n",
        "    # Setup variables for accumulatively adding up loss and accuracy\n",
        "    test_loss, test_acc = 0, 0\n",
        "    model_0.eval()\n",
        "    with torch.inference_mode():\n",
        "        for X, y in test_dataloader:\n",
        "            # Send data to GPU\n",
        "            X, y = X.to(device), y.to(device)\n",
        "            # 1. Forward pass\n",
        "            test_pred = model_0(X)\n",
        "\n",
        "            # 2. Calculate loss (accumatively)\n",
        "            test_loss += loss_fn(test_pred, y) # accumulatively add up the loss per epoch\n",
        "\n",
        "            # 3. Calculate accuracy (preds need to be same as y_true)\n",
        "            test_acc += acc_metric(target=y, preds=(test_pred >= 0.5).float().view(-1, 1))\n",
        "\n",
        "        # Calculations on test metrics need to happen inside torch.inference_mode()\n",
        "        # Divide total test loss by length of test dataloader (per batch)\n",
        "        test_loss /= len(test_dataloader)\n",
        "\n",
        "        # Divide total accuracy by length of test dataloader (per batch)\n",
        "        test_acc /= len(test_dataloader)\n",
        "\n",
        "    ## Print out what's happening\n",
        "    print(f\"\\nTrain loss: {train_loss:.5f} | Test loss: {test_loss:.5f}, Test acc: {test_acc*100:.3f}%\\n\")\n",
        "\n",
        "# Calculate training time\n",
        "train_time_end_on_cpu = timer()\n",
        "total_train_time_model_0 = print_train_time(start=train_time_start_on_cpu,\n",
        "                                           end=train_time_end_on_cpu,\n",
        "                                           device=str(next(model_0.parameters()).device))"
      ],
      "metadata": {
        "id": "0IyYu09Bennr",
        "outputId": "d2d773bf-c1d4-46db-b5ab-14efb2ce8924",
        "colab": {
          "base_uri": "https://localhost:8080/",
          "height": 990,
          "referenced_widgets": [
            "941d615dd452411ebd1a359a87fb23ce",
            "7e62f7754be944d79b5b36169d9d47a0",
            "c72ac79bb86643159cf0ab4d90594824",
            "70f8ec6ea0624d838ee2e937345ceae6",
            "d96733fe5a32410d93ddd9317986b010",
            "e286d824d5314f88a18d842a54a7c51e",
            "1e1de9a2dfd94baf8f34f10e9b344580",
            "b5892a29d53842858f413e10d8ef0d34",
            "f71409533e254518b719aa065e7b7055",
            "39e62d3420be4464991150ce1e820ed9",
            "01c1028bcb154663b80ed36c40c2494b"
          ]
        }
      },
      "execution_count": 218,
      "outputs": [
        {
          "output_type": "display_data",
          "data": {
            "text/plain": [
              "  0%|          | 0/10 [00:00<?, ?it/s]"
            ],
            "application/vnd.jupyter.widget-view+json": {
              "version_major": 2,
              "version_minor": 0,
              "model_id": "941d615dd452411ebd1a359a87fb23ce"
            }
          },
          "metadata": {}
        },
        {
          "output_type": "stream",
          "name": "stdout",
          "text": [
            "Epoch: 0\n",
            "-------\n",
            "\n",
            "Train loss: 0.68530 | Test loss: 0.73498, Test acc: 20.182%\n",
            "\n",
            "Epoch: 1\n",
            "-------\n",
            "\n",
            "Train loss: 0.67404 | Test loss: 0.71231, Test acc: 39.186%\n",
            "\n",
            "Epoch: 2\n",
            "-------\n",
            "\n",
            "Train loss: 0.66128 | Test loss: 0.55457, Test acc: 89.075%\n",
            "\n",
            "Epoch: 3\n",
            "-------\n",
            "\n",
            "Train loss: 0.65150 | Test loss: 0.88782, Test acc: 14.635%\n",
            "\n",
            "Epoch: 4\n",
            "-------\n",
            "\n",
            "Train loss: 0.64464 | Test loss: 0.68993, Test acc: 52.951%\n",
            "\n",
            "Epoch: 5\n",
            "-------\n",
            "\n",
            "Train loss: 0.63721 | Test loss: 0.95096, Test acc: 9.989%\n",
            "\n",
            "Epoch: 6\n",
            "-------\n",
            "\n",
            "Train loss: 0.63344 | Test loss: 0.48589, Test acc: 89.650%\n",
            "\n",
            "Epoch: 7\n",
            "-------\n",
            "\n",
            "Train loss: 0.62984 | Test loss: 0.63426, Test acc: 80.224%\n",
            "\n",
            "Epoch: 8\n",
            "-------\n",
            "\n",
            "Train loss: 0.62578 | Test loss: 0.59727, Test acc: 84.821%\n",
            "\n",
            "Epoch: 9\n",
            "-------\n",
            "\n",
            "Train loss: 0.61772 | Test loss: 0.48662, Test acc: 89.797%\n",
            "\n",
            "Train time on cuda:0: 193.921 seconds\n"
          ]
        }
      ]
    }
  ]
}