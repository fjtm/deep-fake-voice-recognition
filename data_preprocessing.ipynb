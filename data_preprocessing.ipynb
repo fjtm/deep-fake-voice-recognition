{
  "nbformat": 4,
  "nbformat_minor": 0,
  "metadata": {
    "colab": {
      "provenance": []
    },
    "kernelspec": {
      "name": "python3",
      "display_name": "Python 3"
    },
    "language_info": {
      "name": "python"
    }
  },
  "cells": [
    {
      "cell_type": "code",
      "source": [
        "# !git clone -b feature/start https://github.com/fjtm/deep-fake-voice-recognition.git\n",
        "%cd deep-fake-voice-recognition/"
      ],
      "metadata": {
        "id": "BHV8dGBzn3Eo",
        "outputId": "63426949-93c8-4811-ab51-5405685f90c0",
        "colab": {
          "base_uri": "https://localhost:8080/"
        }
      },
      "execution_count": 1,
      "outputs": [
        {
          "output_type": "stream",
          "name": "stdout",
          "text": [
            "/content/deep-fake-voice-recognition\n"
          ]
        }
      ]
    },
    {
      "cell_type": "code",
      "source": [
        "! pip install -q kaggle\n",
        "! pip install playsound\n",
        "! pip install pydub"
      ],
      "metadata": {
        "id": "woTq-YxDqvEE",
        "outputId": "ea881dc0-6e7b-4509-a3f5-d505595582ab",
        "colab": {
          "base_uri": "https://localhost:8080/"
        }
      },
      "execution_count": 2,
      "outputs": [
        {
          "output_type": "stream",
          "name": "stdout",
          "text": [
            "Collecting playsound\n",
            "  Downloading playsound-1.3.0.tar.gz (7.7 kB)\n",
            "  Preparing metadata (setup.py) ... \u001b[?25l\u001b[?25hdone\n",
            "Building wheels for collected packages: playsound\n",
            "  Building wheel for playsound (setup.py) ... \u001b[?25l\u001b[?25hdone\n",
            "  Created wheel for playsound: filename=playsound-1.3.0-py3-none-any.whl size=7020 sha256=172b506978bb123d867752c8380dec07d3dc20ec291e1cfe22e8bdc3e0f05ac7\n",
            "  Stored in directory: /root/.cache/pip/wheels/90/89/ed/2d643f4226fc8c7c9156fc28abd8051e2d2c0de37ae51ac45c\n",
            "Successfully built playsound\n",
            "Installing collected packages: playsound\n",
            "Successfully installed playsound-1.3.0\n",
            "Collecting pydub\n",
            "  Downloading pydub-0.25.1-py2.py3-none-any.whl (32 kB)\n",
            "Installing collected packages: pydub\n",
            "Successfully installed pydub-0.25.1\n"
          ]
        }
      ]
    },
    {
      "cell_type": "code",
      "source": [
        "import IPython\n",
        "from scipy.io import wavfile\n",
        "from pydub import AudioSegment\n",
        "import pandas as pd\n",
        "import numpy as np\n",
        "import librosa\n",
        "import librosa.display\n",
        "import matplotlib.pyplot as plt\n"
      ],
      "metadata": {
        "id": "xow5gRrJnGTa"
      },
      "execution_count": 26,
      "outputs": []
    },
    {
      "cell_type": "code",
      "execution_count": null,
      "metadata": {
        "id": "AAOAgky8hhub",
        "outputId": "cc0169ce-8b44-465f-d560-fcc15bc62b30",
        "colab": {
          "base_uri": "https://localhost:8080/",
          "height": 1000
        }
      },
      "outputs": [
        {
          "output_type": "display_data",
          "data": {
            "text/plain": [
              "<IPython.core.display.HTML object>"
            ],
            "text/html": [
              "\n",
              "     <input type=\"file\" id=\"files-02c44afb-e53d-4681-875e-29330bebe345\" name=\"files[]\" multiple disabled\n",
              "        style=\"border:none\" />\n",
              "     <output id=\"result-02c44afb-e53d-4681-875e-29330bebe345\">\n",
              "      Upload widget is only available when the cell has been executed in the\n",
              "      current browser session. Please rerun this cell to enable.\n",
              "      </output>\n",
              "      <script>// Copyright 2017 Google LLC\n",
              "//\n",
              "// Licensed under the Apache License, Version 2.0 (the \"License\");\n",
              "// you may not use this file except in compliance with the License.\n",
              "// You may obtain a copy of the License at\n",
              "//\n",
              "//      http://www.apache.org/licenses/LICENSE-2.0\n",
              "//\n",
              "// Unless required by applicable law or agreed to in writing, software\n",
              "// distributed under the License is distributed on an \"AS IS\" BASIS,\n",
              "// WITHOUT WARRANTIES OR CONDITIONS OF ANY KIND, either express or implied.\n",
              "// See the License for the specific language governing permissions and\n",
              "// limitations under the License.\n",
              "\n",
              "/**\n",
              " * @fileoverview Helpers for google.colab Python module.\n",
              " */\n",
              "(function(scope) {\n",
              "function span(text, styleAttributes = {}) {\n",
              "  const element = document.createElement('span');\n",
              "  element.textContent = text;\n",
              "  for (const key of Object.keys(styleAttributes)) {\n",
              "    element.style[key] = styleAttributes[key];\n",
              "  }\n",
              "  return element;\n",
              "}\n",
              "\n",
              "// Max number of bytes which will be uploaded at a time.\n",
              "const MAX_PAYLOAD_SIZE = 100 * 1024;\n",
              "\n",
              "function _uploadFiles(inputId, outputId) {\n",
              "  const steps = uploadFilesStep(inputId, outputId);\n",
              "  const outputElement = document.getElementById(outputId);\n",
              "  // Cache steps on the outputElement to make it available for the next call\n",
              "  // to uploadFilesContinue from Python.\n",
              "  outputElement.steps = steps;\n",
              "\n",
              "  return _uploadFilesContinue(outputId);\n",
              "}\n",
              "\n",
              "// This is roughly an async generator (not supported in the browser yet),\n",
              "// where there are multiple asynchronous steps and the Python side is going\n",
              "// to poll for completion of each step.\n",
              "// This uses a Promise to block the python side on completion of each step,\n",
              "// then passes the result of the previous step as the input to the next step.\n",
              "function _uploadFilesContinue(outputId) {\n",
              "  const outputElement = document.getElementById(outputId);\n",
              "  const steps = outputElement.steps;\n",
              "\n",
              "  const next = steps.next(outputElement.lastPromiseValue);\n",
              "  return Promise.resolve(next.value.promise).then((value) => {\n",
              "    // Cache the last promise value to make it available to the next\n",
              "    // step of the generator.\n",
              "    outputElement.lastPromiseValue = value;\n",
              "    return next.value.response;\n",
              "  });\n",
              "}\n",
              "\n",
              "/**\n",
              " * Generator function which is called between each async step of the upload\n",
              " * process.\n",
              " * @param {string} inputId Element ID of the input file picker element.\n",
              " * @param {string} outputId Element ID of the output display.\n",
              " * @return {!Iterable<!Object>} Iterable of next steps.\n",
              " */\n",
              "function* uploadFilesStep(inputId, outputId) {\n",
              "  const inputElement = document.getElementById(inputId);\n",
              "  inputElement.disabled = false;\n",
              "\n",
              "  const outputElement = document.getElementById(outputId);\n",
              "  outputElement.innerHTML = '';\n",
              "\n",
              "  const pickedPromise = new Promise((resolve) => {\n",
              "    inputElement.addEventListener('change', (e) => {\n",
              "      resolve(e.target.files);\n",
              "    });\n",
              "  });\n",
              "\n",
              "  const cancel = document.createElement('button');\n",
              "  inputElement.parentElement.appendChild(cancel);\n",
              "  cancel.textContent = 'Cancel upload';\n",
              "  const cancelPromise = new Promise((resolve) => {\n",
              "    cancel.onclick = () => {\n",
              "      resolve(null);\n",
              "    };\n",
              "  });\n",
              "\n",
              "  // Wait for the user to pick the files.\n",
              "  const files = yield {\n",
              "    promise: Promise.race([pickedPromise, cancelPromise]),\n",
              "    response: {\n",
              "      action: 'starting',\n",
              "    }\n",
              "  };\n",
              "\n",
              "  cancel.remove();\n",
              "\n",
              "  // Disable the input element since further picks are not allowed.\n",
              "  inputElement.disabled = true;\n",
              "\n",
              "  if (!files) {\n",
              "    return {\n",
              "      response: {\n",
              "        action: 'complete',\n",
              "      }\n",
              "    };\n",
              "  }\n",
              "\n",
              "  for (const file of files) {\n",
              "    const li = document.createElement('li');\n",
              "    li.append(span(file.name, {fontWeight: 'bold'}));\n",
              "    li.append(span(\n",
              "        `(${file.type || 'n/a'}) - ${file.size} bytes, ` +\n",
              "        `last modified: ${\n",
              "            file.lastModifiedDate ? file.lastModifiedDate.toLocaleDateString() :\n",
              "                                    'n/a'} - `));\n",
              "    const percent = span('0% done');\n",
              "    li.appendChild(percent);\n",
              "\n",
              "    outputElement.appendChild(li);\n",
              "\n",
              "    const fileDataPromise = new Promise((resolve) => {\n",
              "      const reader = new FileReader();\n",
              "      reader.onload = (e) => {\n",
              "        resolve(e.target.result);\n",
              "      };\n",
              "      reader.readAsArrayBuffer(file);\n",
              "    });\n",
              "    // Wait for the data to be ready.\n",
              "    let fileData = yield {\n",
              "      promise: fileDataPromise,\n",
              "      response: {\n",
              "        action: 'continue',\n",
              "      }\n",
              "    };\n",
              "\n",
              "    // Use a chunked sending to avoid message size limits. See b/62115660.\n",
              "    let position = 0;\n",
              "    do {\n",
              "      const length = Math.min(fileData.byteLength - position, MAX_PAYLOAD_SIZE);\n",
              "      const chunk = new Uint8Array(fileData, position, length);\n",
              "      position += length;\n",
              "\n",
              "      const base64 = btoa(String.fromCharCode.apply(null, chunk));\n",
              "      yield {\n",
              "        response: {\n",
              "          action: 'append',\n",
              "          file: file.name,\n",
              "          data: base64,\n",
              "        },\n",
              "      };\n",
              "\n",
              "      let percentDone = fileData.byteLength === 0 ?\n",
              "          100 :\n",
              "          Math.round((position / fileData.byteLength) * 100);\n",
              "      percent.textContent = `${percentDone}% done`;\n",
              "\n",
              "    } while (position < fileData.byteLength);\n",
              "  }\n",
              "\n",
              "  // All done.\n",
              "  yield {\n",
              "    response: {\n",
              "      action: 'complete',\n",
              "    }\n",
              "  };\n",
              "}\n",
              "\n",
              "scope.google = scope.google || {};\n",
              "scope.google.colab = scope.google.colab || {};\n",
              "scope.google.colab._files = {\n",
              "  _uploadFiles,\n",
              "  _uploadFilesContinue,\n",
              "};\n",
              "})(self);\n",
              "</script> "
            ]
          },
          "metadata": {}
        },
        {
          "output_type": "stream",
          "name": "stdout",
          "text": [
            "Saving kaggle.json to kaggle.json\n",
            "Downloading deep-voice-deepfake-voice-recognition.zip to /content/deep-fake-voice-recognition\n",
            "100% 3.68G/3.69G [00:39<00:00, 261MB/s]\n",
            "100% 3.69G/3.69G [00:39<00:00, 99.8MB/s]\n",
            "Archive:  deep-voice-deepfake-voice-recognition.zip\n",
            "  inflating: DEMONSTRATION/DEMONSTRATION/linus-original-DEMO.mp3  \n",
            "  inflating: DEMONSTRATION/DEMONSTRATION/linus-to-musk-DEMO.mp3  \n",
            "  inflating: KAGGLE/AUDIO/FAKE/Obama-to-Biden.wav  \n",
            "  inflating: KAGGLE/AUDIO/FAKE/Obama-to-Trump.wav  \n",
            "  inflating: KAGGLE/AUDIO/FAKE/biden-to-Obama.wav  \n",
            "  inflating: KAGGLE/AUDIO/FAKE/biden-to-Trump.wav  \n",
            "  inflating: KAGGLE/AUDIO/FAKE/biden-to-linus.wav  \n",
            "  inflating: KAGGLE/AUDIO/FAKE/biden-to-margot.wav  \n",
            "  inflating: KAGGLE/AUDIO/FAKE/biden-to-musk.wav  \n",
            "  inflating: KAGGLE/AUDIO/FAKE/biden-to-ryan.wav  \n",
            "  inflating: KAGGLE/AUDIO/FAKE/biden-to-taylor.wav  \n",
            "  inflating: KAGGLE/AUDIO/FAKE/linus-to-biden.wav  \n",
            "  inflating: KAGGLE/AUDIO/FAKE/linus-to-margot.wav  \n",
            "  inflating: KAGGLE/AUDIO/FAKE/linus-to-musk.wav  \n",
            "  inflating: KAGGLE/AUDIO/FAKE/linus-to-obama.wav  \n",
            "  inflating: KAGGLE/AUDIO/FAKE/linus-to-ryan.wav  \n",
            "  inflating: KAGGLE/AUDIO/FAKE/linus-to-taylor.wav  \n",
            "  inflating: KAGGLE/AUDIO/FAKE/linus-to-trump.wav  \n",
            "  inflating: KAGGLE/AUDIO/FAKE/margot-to-biden.wav  \n",
            "  inflating: KAGGLE/AUDIO/FAKE/margot-to-linus.wav  \n",
            "  inflating: KAGGLE/AUDIO/FAKE/margot-to-musk.wav  \n",
            "  inflating: KAGGLE/AUDIO/FAKE/margot-to-obama.wav  \n",
            "  inflating: KAGGLE/AUDIO/FAKE/margot-to-ryan.wav  \n",
            "  inflating: KAGGLE/AUDIO/FAKE/margot-to-taylor.wav  \n",
            "  inflating: KAGGLE/AUDIO/FAKE/margot-to-trump.wav  \n",
            "  inflating: KAGGLE/AUDIO/FAKE/musk-to-biden.wav  \n",
            "  inflating: KAGGLE/AUDIO/FAKE/musk-to-linus.wav  \n",
            "  inflating: KAGGLE/AUDIO/FAKE/musk-to-margot.wav  \n",
            "  inflating: KAGGLE/AUDIO/FAKE/musk-to-obama.wav  \n",
            "  inflating: KAGGLE/AUDIO/FAKE/musk-to-ryan.wav  \n",
            "  inflating: KAGGLE/AUDIO/FAKE/musk-to-taylor.wav  \n",
            "  inflating: KAGGLE/AUDIO/FAKE/musk-to-trump.wav  \n",
            "  inflating: KAGGLE/AUDIO/FAKE/obama-to-linus.wav  \n",
            "  inflating: KAGGLE/AUDIO/FAKE/obama-to-margot.wav  \n",
            "  inflating: KAGGLE/AUDIO/FAKE/obama-to-musk.wav  \n",
            "  inflating: KAGGLE/AUDIO/FAKE/obama-to-ryan.wav  \n",
            "  inflating: KAGGLE/AUDIO/FAKE/obama-to-taylor.wav  \n",
            "  inflating: KAGGLE/AUDIO/FAKE/ryan-to-biden.wav  \n",
            "  inflating: KAGGLE/AUDIO/FAKE/ryan-to-linus.wav  \n",
            "  inflating: KAGGLE/AUDIO/FAKE/ryan-to-margot.wav  \n",
            "  inflating: KAGGLE/AUDIO/FAKE/ryan-to-musk.wav  \n",
            "  inflating: KAGGLE/AUDIO/FAKE/ryan-to-obama.wav  \n",
            "  inflating: KAGGLE/AUDIO/FAKE/ryan-to-taylor.wav  \n",
            "  inflating: KAGGLE/AUDIO/FAKE/ryan-to-trump.wav  \n",
            "  inflating: KAGGLE/AUDIO/FAKE/taylor-to-biden.wav  \n",
            "  inflating: KAGGLE/AUDIO/FAKE/taylor-to-linus.wav  \n",
            "  inflating: KAGGLE/AUDIO/FAKE/taylor-to-margot.wav  \n",
            "  inflating: KAGGLE/AUDIO/FAKE/taylor-to-musk.wav  \n",
            "  inflating: KAGGLE/AUDIO/FAKE/taylor-to-obama.wav  \n",
            "  inflating: KAGGLE/AUDIO/FAKE/taylor-to-ryan.wav  \n",
            "  inflating: KAGGLE/AUDIO/FAKE/taylor-to-trump.wav  \n",
            "  inflating: KAGGLE/AUDIO/FAKE/trump-to-Biden.wav  \n",
            "  inflating: KAGGLE/AUDIO/FAKE/trump-to-Obama.wav  \n",
            "  inflating: KAGGLE/AUDIO/FAKE/trump-to-linus.wav  \n",
            "  inflating: KAGGLE/AUDIO/FAKE/trump-to-margot.wav  \n",
            "  inflating: KAGGLE/AUDIO/FAKE/trump-to-musk.wav  \n",
            "  inflating: KAGGLE/AUDIO/FAKE/trump-to-ryan.wav  \n",
            "  inflating: KAGGLE/AUDIO/FAKE/trump-to-taylor.wav  \n",
            "  inflating: KAGGLE/AUDIO/REAL/biden-original.wav  \n",
            "  inflating: KAGGLE/AUDIO/REAL/linus-original.wav  \n",
            "  inflating: KAGGLE/AUDIO/REAL/margot-original.wav  \n",
            "  inflating: KAGGLE/AUDIO/REAL/musk-original.wav  \n",
            "  inflating: KAGGLE/AUDIO/REAL/obama-original.wav  \n",
            "  inflating: KAGGLE/AUDIO/REAL/ryan-original.wav  \n",
            "  inflating: KAGGLE/AUDIO/REAL/taylor-original.wav  \n",
            "  inflating: KAGGLE/AUDIO/REAL/trump-original.wav  \n",
            "  inflating: KAGGLE/DATASET-balanced.csv  \n"
          ]
        }
      ],
      "source": [
        "from google.colab import files\n",
        "files.upload()\n",
        "! mkdir ~/.kaggle\n",
        "! cp kaggle.json ~/.kaggle/\n",
        "! chmod 600 ~/.kaggle/kaggle.json\n",
        "! kaggle datasets download -d birdy654/deep-voice-deepfake-voice-recognition\n",
        "! unzip deep-voice-deepfake-voice-recognition.zip"
      ]
    },
    {
      "cell_type": "markdown",
      "source": [
        "# Build a base module to extract audio properties"
      ],
      "metadata": {
        "id": "B9THK798snM2"
      }
    },
    {
      "cell_type": "code",
      "source": [
        "from preprocess.AudioProperties import process_audio_files"
      ],
      "metadata": {
        "id": "W1rEdHks73LL"
      },
      "execution_count": 2,
      "outputs": []
    },
    {
      "cell_type": "markdown",
      "source": [
        "# Check multithreading optimization"
      ],
      "metadata": {
        "id": "4-A2opdaLUd7"
      }
    },
    {
      "cell_type": "code",
      "source": [
        "import os\n",
        "# List of audio files\n",
        "audio_files = [\n",
        "    os.path.join(path, file)\n",
        "    for path, directories, files in os.walk(\"KAGGLE/AUDIO/\")\n",
        "    for file in files\n",
        "    ]"
      ],
      "metadata": {
        "id": "hybfkBrjWyid"
      },
      "execution_count": 5,
      "outputs": []
    },
    {
      "cell_type": "code",
      "source": [
        "audio_results = process_audio_files(audio_files[0:16], num_threads = 1)"
      ],
      "metadata": {
        "colab": {
          "base_uri": "https://localhost:8080/"
        },
        "id": "fwUKXMOdGMjy",
        "outputId": "cb7d5bee-1def-4ba9-d2f6-58362877e0ef"
      },
      "execution_count": null,
      "outputs": [
        {
          "output_type": "stream",
          "name": "stdout",
          "text": [
            "Progress: 16/16 (100.00%)\n",
            "Processing completed.\n",
            "Total time taken: 570.17 seconds\n"
          ]
        }
      ]
    },
    {
      "cell_type": "code",
      "source": [
        "audio_results = process_audio_files(audio_files[0:16], num_threads = None)"
      ],
      "metadata": {
        "colab": {
          "base_uri": "https://localhost:8080/"
        },
        "id": "QXvjYSuJGa_m",
        "outputId": "e3234eef-cab8-4fd2-c99a-09a7ebf735e9"
      },
      "execution_count": null,
      "outputs": [
        {
          "output_type": "stream",
          "name": "stdout",
          "text": [
            "Progress: 16/16 (100.00%)\n",
            "Processing completed.\n",
            "Total time taken: 449.71 seconds\n"
          ]
        }
      ]
    },
    {
      "cell_type": "markdown",
      "source": [
        "# Preprocess data"
      ],
      "metadata": {
        "id": "CWLfMhh1MVdn"
      }
    },
    {
      "cell_type": "code",
      "source": [
        "see = process_audio_files(audio_files[0:2], num_threads = None)"
      ],
      "metadata": {
        "id": "yNUUYP0XJ7TS",
        "outputId": "fc6247f3-6566-475d-fec3-aa1c7dc2bb67",
        "colab": {
          "base_uri": "https://localhost:8080/"
        }
      },
      "execution_count": null,
      "outputs": [
        {
          "output_type": "stream",
          "name": "stdout",
          "text": [
            "Progress: 2/2 (100.00%)\n",
            "Processing completed.\n",
            "Total time taken: 47.59 seconds\n"
          ]
        }
      ]
    },
    {
      "cell_type": "markdown",
      "source": [
        "# Save data"
      ],
      "metadata": {
        "id": "NiFYioX3Nt9d"
      }
    },
    {
      "cell_type": "code",
      "source": [
        "from common.SaveLoad import save_data_zip"
      ],
      "metadata": {
        "id": "oRv5OQVdCDZM"
      },
      "execution_count": 2,
      "outputs": []
    },
    {
      "cell_type": "code",
      "source": [
        "from google.colab import drive\n",
        "drive.mount('/content/drive')"
      ],
      "metadata": {
        "id": "P_Z6qu5XQx5T",
        "outputId": "eda74965-bfb3-4d9e-c256-70e5881c53c6",
        "colab": {
          "base_uri": "https://localhost:8080/"
        }
      },
      "execution_count": 3,
      "outputs": [
        {
          "output_type": "stream",
          "name": "stdout",
          "text": [
            "Drive already mounted at /content/drive; to attempt to forcibly remount, call drive.mount(\"/content/drive\", force_remount=True).\n"
          ]
        }
      ]
    },
    {
      "cell_type": "code",
      "source": [
        "import time\n",
        "from IPython.display import clear_output\n",
        "\n",
        "start_time = time.time()\n",
        "for i, sub_audio_files in enumerate([audio_files[i:i+16] for i in range(0, len(audio_files), 16)]):\n",
        "    save_data_zip(sub_audio_files, i)\n",
        "\n",
        "end_time = time.time()\n",
        "execution_time = end_time - start_time\n",
        "clear_output(wait=True)\n",
        "print(f'Execution time: {execution_time:.2f} seconds')"
      ],
      "metadata": {
        "id": "UxO0SqeSMfig",
        "outputId": "49be4193-753b-445a-e3ce-4bb755371de6",
        "colab": {
          "base_uri": "https://localhost:8080/"
        }
      },
      "execution_count": null,
      "outputs": [
        {
          "output_type": "stream",
          "name": "stdout",
          "text": [
            "Execution time: 1393.96 seconds\n"
          ]
        }
      ]
    },
    {
      "cell_type": "markdown",
      "source": [
        "# Loading data"
      ],
      "metadata": {
        "id": "1sr_u4ew03xd"
      }
    },
    {
      "cell_type": "code",
      "source": [
        "from common.SaveLoad import read_data_zip"
      ],
      "metadata": {
        "id": "9BmpOUFuFyU-"
      },
      "execution_count": 3,
      "outputs": []
    },
    {
      "cell_type": "code",
      "source": [
        "import pandas as pd\n",
        "import os\n",
        "zip_files_path = f'/content/drive/My Drive/deep-fake-voice-recognition/data/'\n",
        "\n",
        "df = (\n",
        "    pd.concat(\n",
        "        [read_data_zip(zip_files_path+file, csv_encoding='utf-8')\n",
        "        for file in os.listdir(zip_files_path)\n",
        "        ],\n",
        "        axis = 0,\n",
        "        ignore_index = True,\n",
        "        sort = False\n",
        "        )\n",
        "    )"
      ],
      "metadata": {
        "id": "EYornDZD0eIZ"
      },
      "execution_count": 4,
      "outputs": []
    },
    {
      "cell_type": "markdown",
      "source": [
        "# Train/test split"
      ],
      "metadata": {
        "id": "FDCmoD2351Oi"
      }
    },
    {
      "cell_type": "code",
      "source": [
        "from preprocess.TrainTestPrepare import add_index_label, train_test_split"
      ],
      "metadata": {
        "id": "LiLP0BdzFa6w"
      },
      "execution_count": 5,
      "outputs": []
    },
    {
      "cell_type": "code",
      "source": [
        "target_column = \"target\"\n",
        "index_columns = \"ind_num\"\n",
        "not_data_columns = [\"label\", \"ind\", \"target\",\"ind_num\"]"
      ],
      "metadata": {
        "id": "T0nNDDyj1WUd"
      },
      "execution_count": 6,
      "outputs": []
    },
    {
      "cell_type": "code",
      "source": [
        "df = add_index_label(df)\n",
        "train, test = train_test_split(df)"
      ],
      "metadata": {
        "id": "QxlnBTh060mw"
      },
      "execution_count": 7,
      "outputs": []
    },
    {
      "cell_type": "code",
      "source": [
        "X_train, y_train = train.drop(not_data_columns, axis = 1), train[target_column]\n",
        "X_test, y_test = test.drop(not_data_columns, axis = 1), test[target_column]"
      ],
      "metadata": {
        "id": "a2BngaIr-tlN"
      },
      "execution_count": 8,
      "outputs": []
    },
    {
      "cell_type": "code",
      "source": [
        "X_train.shape, y_train.shape, X_test.shape, y_test.shape"
      ],
      "metadata": {
        "colab": {
          "base_uri": "https://localhost:8080/"
        },
        "id": "mT57qGHv_zfI",
        "outputId": "4c49e792-6f72-4755-d5df-cd5580d13b56"
      },
      "execution_count": 9,
      "outputs": [
        {
          "output_type": "execute_result",
          "data": {
            "text/plain": [
              "((1857240, 58), (1857240,), (716918, 58), (716918,))"
            ]
          },
          "metadata": {},
          "execution_count": 9
        }
      ]
    }
  ]
}