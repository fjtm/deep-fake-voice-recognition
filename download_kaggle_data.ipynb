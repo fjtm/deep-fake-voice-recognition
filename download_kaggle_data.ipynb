{
  "nbformat": 4,
  "nbformat_minor": 0,
  "metadata": {
    "colab": {
      "provenance": [],
      "authorship_tag": "ABX9TyM4nsBybJE1l2H8/opMxNY3",
      "include_colab_link": true
    },
    "kernelspec": {
      "name": "python3",
      "display_name": "Python 3"
    },
    "language_info": {
      "name": "python"
    }
  },
  "cells": [
    {
      "cell_type": "markdown",
      "metadata": {
        "id": "view-in-github",
        "colab_type": "text"
      },
      "source": [
        "<a href=\"https://colab.research.google.com/github/fjtm/deeplearning/blob/feature%2Fstart/download_kaggle_data.ipynb\" target=\"_parent\"><img src=\"https://colab.research.google.com/assets/colab-badge.svg\" alt=\"Open In Colab\"/></a>"
      ]
    },
    {
      "cell_type": "code",
      "execution_count": 1,
      "metadata": {
        "id": "AAOAgky8hhub"
      },
      "outputs": [],
      "source": [
        "! pip install -q kaggle"
      ]
    },
    {
      "cell_type": "code",
      "source": [
        "from google.colab import files"
      ],
      "metadata": {
        "id": "9igOu9GyhnCL"
      },
      "execution_count": 2,
      "outputs": []
    },
    {
      "cell_type": "code",
      "source": [
        "files.upload()"
      ],
      "metadata": {
        "id": "kN6qkXhehnkM"
      },
      "execution_count": null,
      "outputs": []
    },
    {
      "cell_type": "code",
      "source": [
        "! mkdir ~/.kaggle\n",
        "! cp kaggle.json ~/.kaggle/"
      ],
      "metadata": {
        "id": "hyvtkFNShuaG"
      },
      "execution_count": 4,
      "outputs": []
    },
    {
      "cell_type": "code",
      "source": [
        "! chmod 600 ~/.kaggle/kaggle.json"
      ],
      "metadata": {
        "id": "_0TkIbUShwtN"
      },
      "execution_count": 5,
      "outputs": []
    },
    {
      "cell_type": "code",
      "source": [
        "! kaggle datasets download -d birdy654/deep-voice-deepfake-voice-recognition"
      ],
      "metadata": {
        "colab": {
          "base_uri": "https://localhost:8080/"
        },
        "id": "MnjHrqs1hyK3",
        "outputId": "b96c79bd-4573-4de9-9149-1afab18d60e7"
      },
      "execution_count": 8,
      "outputs": [
        {
          "output_type": "stream",
          "name": "stdout",
          "text": [
            "Downloading deep-voice-deepfake-voice-recognition.zip to /content\n",
            "100% 3.67G/3.69G [00:40<00:00, 90.1MB/s]\n",
            "100% 3.69G/3.69G [00:40<00:00, 98.5MB/s]\n"
          ]
        }
      ]
    },
    {
      "cell_type": "code",
      "source": [
        "! unzip deep-voice-deepfake-voice-recognition.zip"
      ],
      "metadata": {
        "colab": {
          "base_uri": "https://localhost:8080/"
        },
        "id": "9brVc5l5i82g",
        "outputId": "0ec590df-aefa-491c-f480-ec97c5799ac5"
      },
      "execution_count": 11,
      "outputs": [
        {
          "output_type": "stream",
          "name": "stdout",
          "text": [
            "Archive:  deep-voice-deepfake-voice-recognition.zip\n",
            "  inflating: DEMONSTRATION/DEMONSTRATION/linus-original-DEMO.mp3  \n",
            "  inflating: DEMONSTRATION/DEMONSTRATION/linus-to-musk-DEMO.mp3  \n",
            "  inflating: KAGGLE/AUDIO/FAKE/Obama-to-Biden.wav  \n",
            "  inflating: KAGGLE/AUDIO/FAKE/Obama-to-Trump.wav  \n",
            "  inflating: KAGGLE/AUDIO/FAKE/biden-to-Obama.wav  \n",
            "  inflating: KAGGLE/AUDIO/FAKE/biden-to-Trump.wav  \n",
            "  inflating: KAGGLE/AUDIO/FAKE/biden-to-linus.wav  \n",
            "  inflating: KAGGLE/AUDIO/FAKE/biden-to-margot.wav  \n",
            "  inflating: KAGGLE/AUDIO/FAKE/biden-to-musk.wav  \n",
            "  inflating: KAGGLE/AUDIO/FAKE/biden-to-ryan.wav  \n",
            "  inflating: KAGGLE/AUDIO/FAKE/biden-to-taylor.wav  \n",
            "  inflating: KAGGLE/AUDIO/FAKE/linus-to-biden.wav  \n",
            "  inflating: KAGGLE/AUDIO/FAKE/linus-to-margot.wav  \n",
            "  inflating: KAGGLE/AUDIO/FAKE/linus-to-musk.wav  \n",
            "  inflating: KAGGLE/AUDIO/FAKE/linus-to-obama.wav  \n",
            "  inflating: KAGGLE/AUDIO/FAKE/linus-to-ryan.wav  \n",
            "  inflating: KAGGLE/AUDIO/FAKE/linus-to-taylor.wav  \n",
            "  inflating: KAGGLE/AUDIO/FAKE/linus-to-trump.wav  \n",
            "  inflating: KAGGLE/AUDIO/FAKE/margot-to-biden.wav  \n",
            "  inflating: KAGGLE/AUDIO/FAKE/margot-to-linus.wav  \n",
            "  inflating: KAGGLE/AUDIO/FAKE/margot-to-musk.wav  \n",
            "  inflating: KAGGLE/AUDIO/FAKE/margot-to-obama.wav  \n",
            "  inflating: KAGGLE/AUDIO/FAKE/margot-to-ryan.wav  \n",
            "  inflating: KAGGLE/AUDIO/FAKE/margot-to-taylor.wav  \n",
            "  inflating: KAGGLE/AUDIO/FAKE/margot-to-trump.wav  \n",
            "  inflating: KAGGLE/AUDIO/FAKE/musk-to-biden.wav  \n",
            "  inflating: KAGGLE/AUDIO/FAKE/musk-to-linus.wav  \n",
            "  inflating: KAGGLE/AUDIO/FAKE/musk-to-margot.wav  \n",
            "  inflating: KAGGLE/AUDIO/FAKE/musk-to-obama.wav  \n",
            "  inflating: KAGGLE/AUDIO/FAKE/musk-to-ryan.wav  \n",
            "  inflating: KAGGLE/AUDIO/FAKE/musk-to-taylor.wav  \n",
            "  inflating: KAGGLE/AUDIO/FAKE/musk-to-trump.wav  \n",
            "  inflating: KAGGLE/AUDIO/FAKE/obama-to-linus.wav  \n",
            "  inflating: KAGGLE/AUDIO/FAKE/obama-to-margot.wav  \n",
            "  inflating: KAGGLE/AUDIO/FAKE/obama-to-musk.wav  \n",
            "  inflating: KAGGLE/AUDIO/FAKE/obama-to-ryan.wav  \n",
            "  inflating: KAGGLE/AUDIO/FAKE/obama-to-taylor.wav  \n",
            "  inflating: KAGGLE/AUDIO/FAKE/ryan-to-biden.wav  \n",
            "  inflating: KAGGLE/AUDIO/FAKE/ryan-to-linus.wav  \n",
            "  inflating: KAGGLE/AUDIO/FAKE/ryan-to-margot.wav  \n",
            "  inflating: KAGGLE/AUDIO/FAKE/ryan-to-musk.wav  \n",
            "  inflating: KAGGLE/AUDIO/FAKE/ryan-to-obama.wav  \n",
            "  inflating: KAGGLE/AUDIO/FAKE/ryan-to-taylor.wav  \n",
            "  inflating: KAGGLE/AUDIO/FAKE/ryan-to-trump.wav  \n",
            "  inflating: KAGGLE/AUDIO/FAKE/taylor-to-biden.wav  \n",
            "  inflating: KAGGLE/AUDIO/FAKE/taylor-to-linus.wav  \n",
            "  inflating: KAGGLE/AUDIO/FAKE/taylor-to-margot.wav  \n",
            "  inflating: KAGGLE/AUDIO/FAKE/taylor-to-musk.wav  \n",
            "  inflating: KAGGLE/AUDIO/FAKE/taylor-to-obama.wav  \n",
            "  inflating: KAGGLE/AUDIO/FAKE/taylor-to-ryan.wav  \n",
            "  inflating: KAGGLE/AUDIO/FAKE/taylor-to-trump.wav  \n",
            "  inflating: KAGGLE/AUDIO/FAKE/trump-to-Biden.wav  \n",
            "  inflating: KAGGLE/AUDIO/FAKE/trump-to-Obama.wav  \n",
            "  inflating: KAGGLE/AUDIO/FAKE/trump-to-linus.wav  \n",
            "  inflating: KAGGLE/AUDIO/FAKE/trump-to-margot.wav  \n",
            "  inflating: KAGGLE/AUDIO/FAKE/trump-to-musk.wav  \n",
            "  inflating: KAGGLE/AUDIO/FAKE/trump-to-ryan.wav  \n",
            "  inflating: KAGGLE/AUDIO/FAKE/trump-to-taylor.wav  \n",
            "  inflating: KAGGLE/AUDIO/REAL/biden-original.wav  \n",
            "  inflating: KAGGLE/AUDIO/REAL/linus-original.wav  \n",
            "  inflating: KAGGLE/AUDIO/REAL/margot-original.wav  \n",
            "  inflating: KAGGLE/AUDIO/REAL/musk-original.wav  \n",
            "  inflating: KAGGLE/AUDIO/REAL/obama-original.wav  \n",
            "  inflating: KAGGLE/AUDIO/REAL/ryan-original.wav  \n",
            "  inflating: KAGGLE/AUDIO/REAL/taylor-original.wav  \n",
            "  inflating: KAGGLE/AUDIO/REAL/trump-original.wav  \n",
            "  inflating: KAGGLE/DATASET-balanced.csv  \n"
          ]
        }
      ]
    }
  ]
}